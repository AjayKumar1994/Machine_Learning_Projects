{
 "cells": [
  {
   "cell_type": "code",
   "execution_count": 1,
   "metadata": {},
   "outputs": [],
   "source": [
    "import re\n",
    "from nltk import word_tokenize, pos_tag\n",
    "#docText = \"Snow White And the Seven Dwarfs. Newcastle upon Tyne. Brighton on Sea. The kinosternon baurii Last of the Mohicans.\"\n",
    "#f = open(\"demofile.txt\", \"r\")\n",
    "#changed = docText.title()\n",
    "#input1 = \"it is title case\"\n",
    "#words = re.split(\"\\W+\",docText)\n",
    "#print(changed)\n",
    "#print(words)"
   ]
  },
  {
   "cell_type": "code",
   "execution_count": 201,
   "metadata": {},
   "outputs": [],
   "source": [
    "import nltk\n",
    "\n",
    "\n",
    "#Nouns = [token for token, pos in pos_tag(word_tokenize(docText)) if pos.startswith('NN')]\n",
    "#Nouns\n",
    "t = ['Can neurofeedback training enhance performance? An evaluation of the evidence with implications for future research','Electrophysiological correlates of looking at paintings and its association with art expertise',\n",
    "'Analysis of EEG signals related to artists and nonartists during visual perception, mental imagery, and rest using approximate entropy',\n",
    "'Skill in field hockey: the nature of the cognitive advantage','Expert-novice differences in an applied selective attention task', 'Perception in sport: basketball','Brain correlates underlying creative thinking: EEG alpha activity in professional vs. novice dancers',\n",
    "'Expertise in dance modulates alpha ⁄ beta event-related desynchronization during action observation','Effect of music and biofeedback on alpha brainwave rhythms and attentiveness of musicians and non-musicians','Brainwaves and biofeedback: a brief history—Implications for music research','The EEG: an adequate method to concretize brain processes elicited by music','EEG coherence and musical thinking','Phase synchrony analysis of EEG during music perception reveals changes in functional connectivity due to musical expertise','Enhanced phase synchrony in the electroencephalograph g band for musicians while listening to music', 'Long-range synchrony in the γ band: role in music perception',\n",
    "'Musicians and gamma band: a secret affair NeuroReport','Musicians and gamma band: a secret affair','Brain activities in a skilled versus a novice artist: an fMRI study']\n"
   ]
  },
  {
   "cell_type": "code",
   "execution_count": 175,
   "metadata": {},
   "outputs": [],
   "source": [
    "def title_casing(pos_tags):\n",
    "\n",
    "   \n",
    "        \n",
    "    for index, token in enumerate(pos_tags):\n",
    "        if index == 0:\n",
    "            if token[0] == token[0].title():\n",
    "                continue\n",
    "            else:\n",
    "                print(\"WARNING:\",token[0],\"is not capitalised\")\n",
    "        else:\n",
    "            if (pos_tags[index-1][0] == '.'):\n",
    "                if token[0] == token[0].title():\n",
    "                    continue\n",
    "                else:\n",
    "                    print(\"WARNING:\",token[0],\"is not capitalised\")\n",
    "                    if ((token[1] == 'CC') or (token[1] == 'DT') or (token[1] =='IN')):\n",
    "            \n",
    "                         if token[0] == token[0].title():\n",
    "                            print(\"WARNING:\",token[0],\"is capitalised\")\n",
    "                    else:\n",
    "                        continue"
   ]
  },
  {
   "cell_type": "code",
   "execution_count": 176,
   "metadata": {},
   "outputs": [],
   "source": [
    "def sentence_casing(f,token,index,pos_tags):\n",
    "    for index, token in enumerate(pos_tags):\n",
    "    \n",
    "        if index == 0:\n",
    "            if token[0] == token[0].title():\n",
    "                continue\n",
    "            else:\n",
    "                print(\"WARNING:\",token[0],\"is not capitalised\")\n",
    "        else:\n",
    "            if (pos_tags[index-1][0] == '.'):\n",
    "                if token[0] == token[0].title():\n",
    "                    continue\n",
    "                else:\n",
    "                    print(\"WARNING:\",token[0],\"is not capitalised\")\n",
    "            if (token[1] == 'NN') and  (token[0] != token[0].title()):\n",
    "                print(\"WARNING:\",token[0],\"is not capitalised\")\n",
    "            elif (token[1] != 'NNP') and  (token[0] == token[0].title()) and (token[0] != \".\") :\n",
    "                print(\"WARNING:\",token[0],\"is capitalised\")\n",
    "                \n",
    "                \n",
    "        "
   ]
  },
  {
   "cell_type": "code",
   "execution_count": 177,
   "metadata": {},
   "outputs": [
    {
     "name": "stdout",
     "output_type": "stream",
     "text": [
      "['neurofeedback', 'enhance', 'performance', 'evaluation', 'evidence', 'research']\n",
      "['association', 'expertise']\n",
      "['Analysis', 'perception', 'imagery', 'entropy']\n",
      "['field', 'hockey', 'nature', 'advantage']\n",
      "['attention', 'task']\n",
      "['Perception', 'sport', 'basketball']\n",
      "['thinking', 'alpha', 'activity', 'vs.', 'novice']\n",
      "['Expertise', 'dance', 'beta', 'desynchronization', 'action', 'observation']\n",
      "['Effect', 'music', 'biofeedback', 'rhythms', 'attentiveness']\n",
      "['biofeedback', 'music', 'research']\n",
      "['method', 'concretize', 'brain', 'music']\n",
      "['coherence', 'thinking']\n",
      "['analysis', 'music', 'perception', 'connectivity', 'expertise']\n",
      "['phase', 'synchrony', 'electroencephalograph', 'g', 'band', 'music']\n",
      "['synchrony', 'band', 'role', 'music', 'perception']\n",
      "['band', 'affair']\n",
      "['band', 'affair']\n",
      "['versus', 'artist', 'fMRI', 'study']\n"
     ]
    }
   ],
   "source": [
    "\n",
    "\n",
    "for x in t:\n",
    "    elist_NV = []\n",
    "    #print(x)\n",
    "    tokens = nltk.word_tokenize(x)\n",
    "    pos_tags = nltk.pos_tag(tokens)\n",
    "    \n",
    "    #print(tokens)\n",
    "   # title_casing(pos_tags)\n",
    "    #print(pos_tags)\n",
    "\n",
    "    for k,v in enumerate(pos_tags):\n",
    "        if (v[1] =='NN') or (v[1] =='VB'):\n",
    "            elist_NV.append(v[0])\n",
    "    print(elist_NV)"
   ]
  },
  {
   "cell_type": "code",
   "execution_count": 188,
   "metadata": {},
   "outputs": [],
   "source": [
    "import spacy\n",
    "nlp = spacy.load('en')\n",
    "#nlp = spacy.load('en_core_web_sm')\n",
    "import spacy.lang.en"
   ]
  },
  {
   "cell_type": "code",
   "execution_count": 193,
   "metadata": {},
   "outputs": [],
   "source": [
    "# Set up spaCy\n",
    "from spacy.lang.en import English\n",
    "parser = English()"
   ]
  },
  {
   "cell_type": "code",
   "execution_count": 194,
   "metadata": {},
   "outputs": [],
   "source": [
    "doc = nlp(\"The big grey dog ate all of the chocolate, but fortunately he wasn't sick!\")"
   ]
  },
  {
   "cell_type": "code",
   "execution_count": 197,
   "metadata": {},
   "outputs": [
    {
     "data": {
      "text/plain": [
       "[(The, 'DT'),\n",
       " (big, 'JJ'),\n",
       " (grey, 'JJ'),\n",
       " (dog, 'NN'),\n",
       " (ate, 'VBD'),\n",
       " (all, 'DT'),\n",
       " (of, 'IN'),\n",
       " (the, 'DT'),\n",
       " (chocolate, 'NN'),\n",
       " (,, ','),\n",
       " (but, 'CC'),\n",
       " (fortunately, 'RB'),\n",
       " (he, 'PRP'),\n",
       " (was, 'VBD'),\n",
       " (n't, 'RB'),\n",
       " (sick, 'JJ'),\n",
       " (!, '.')]"
      ]
     },
     "execution_count": 197,
     "metadata": {},
     "output_type": "execute_result"
    }
   ],
   "source": [
    "pos_tags = [(i, i.tag_) for i in doc]\n",
    "pos_tags"
   ]
  },
  {
   "cell_type": "code",
   "execution_count": 130,
   "metadata": {},
   "outputs": [
    {
     "data": {
      "text/plain": [
       "'snow white and the seven Dwarfs Newcastle upon Tyne Brighton on Sea the last of the Mohicans '"
      ]
     },
     "execution_count": 130,
     "metadata": {},
     "output_type": "execute_result"
    }
   ],
   "source": [
    "\" \".join(elist)"
   ]
  },
  {
   "cell_type": "code",
   "execution_count": null,
   "metadata": {},
   "outputs": [],
   "source": []
  }
 ],
 "metadata": {
  "kernelspec": {
   "display_name": "Python 3",
   "language": "python",
   "name": "python3"
  },
  "language_info": {
   "codemirror_mode": {
    "name": "ipython",
    "version": 3
   },
   "file_extension": ".py",
   "mimetype": "text/x-python",
   "name": "python",
   "nbconvert_exporter": "python",
   "pygments_lexer": "ipython3",
   "version": "3.6.4"
  }
 },
 "nbformat": 4,
 "nbformat_minor": 2
}
