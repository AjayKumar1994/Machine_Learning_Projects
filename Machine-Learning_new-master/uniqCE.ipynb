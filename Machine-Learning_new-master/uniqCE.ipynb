{
 "cells": [
  {
   "cell_type": "code",
   "execution_count": null,
   "metadata": {
    "scrolled": true
   },
   "outputs": [
    {
     "name": "stdout",
     "output_type": "stream",
     "text": [
      "INSERT INTO uniqmaster (UNIQITEMID, USERID, JID, AID, STAGE,ITEMPROCESSINGDATE,ERRORCOUNT, COUNTER) VALUES('rit','test20','test3','test4','test5','2019-03-27 07:29:06',7,66);\n"
     ]
    }
   ],
   "source": [
    "import pypyodbc\n",
    "import datetime\n",
    "\n",
    "some_time = datetime.datetime.utcnow().strftime('%Y-%m-%d %H:%M:%S')\n",
    "\n",
    "\n",
    "out_list = [\"rit\",\"test20\",\"test3\",\"test4\",\"test5\",some_time,7,66]\n",
    "#out_list0 = [\"mnit\",\"test20\",\"test3\",\"test4\",\"test5\",7]\n",
    "\n",
    "connection = pypyodbc.connect('Driver={SQL Server};Server=172.16.0.61;Database=unitouch;uid=sa;pwd=p@ssw0rd')\n",
    "cursor = connection.cursor()\n",
    "\n",
    "stmt = \"INSERT INTO uniqmaster (UNIQITEMID, USERID, JID, AID, STAGE,ITEMPROCESSINGDATE,ERRORCOUNT, COUNTER) VALUES(\"+\"\\'\"+out_list[0]+\"\\'\"+\",\"+\"\\'\"+out_list[1]+\"\\'\"+\",\"+\"\\'\"+out_list[2]+\"\\'\"+\",\"+\"\\'\"+out_list[3]+\"\\'\"+\",\"+\"\\'\"+out_list[4]+\"\\'\"+\",\"+\"\\'\"+out_list[5]+\"\\'\"+\",\"+str(out_list[6])+\",\"+str(out_list[7])+\");\"\n",
    "print(stmt)\n",
    "#stmt1 = \"INSERT INTO uniqtranscation (UNIQTRANSACTIONID, UNIQITEMID, CATEGORY, RULEID, ERRORDESC,COUNTER) VALUES(\"+\"\\'\"+out_list0[0]+\"\\'\"+\",\"+\"\\'\"+out_list0[1]+\"\\'\"+\",\"+\"\\'\"+out_list0[2]+\"\\'\"+\",\"+\"\\'\"+out_list0[3]+\"\\'\"+\",\"+\"\\'\"+out_list0[4]+\"\\'\"+\",\"+str(out_list0[5])+\");\"\n",
    "cursor.execute(stmt)\n",
    "#cursor.execute(stmt1)\n",
    "connection.commit()\n",
    "cursor.close()\n",
    "connection.close()"
   ]
  },
  {
   "cell_type": "code",
   "execution_count": 1,
   "metadata": {},
   "outputs": [
    {
     "name": "stdout",
     "output_type": "stream",
     "text": [
      "INSERT INTO uniqmaster (UNIQITEMID, USERID, JID, AID, STAGE,ITEMPROCESSINGDATE,ERRORCOUNT, COUNTER) VALUES('nit','test20','test3','test4','test5','2019-03-29 07:08:31',7,66);\n",
      "INSERT INTO uniqtranscation (UNIQTRANSACTIONID, UNIQITEMID, CATEGORY, RULEID, ERRORDESC,COUNTER) VALUES('mnit','nit','test3','test4','test5',7);\n"
     ]
    }
   ],
   "source": [
    "import pypyodbc\n",
    "import datetime\n",
    "#goodcode\n",
    "some_time = datetime.datetime.utcnow().strftime('%Y-%m-%d %H:%M:%S')\n",
    "\n",
    "\n",
    "out_list = [\"nit\",\"test20\",\"test3\",\"test4\",\"test5\",some_time,7,66]\n",
    "out_list0 = [\"mnit\",\"nit\",\"test3\",\"test4\",\"test5\",7]\n",
    "\n",
    "connection = pypyodbc.connect('Driver={SQL Server};Server=172.16.0.61;Database=unitouch;uid=sa;pwd=p@ssw0rd')\n",
    "cursor = connection.cursor()\n",
    "cursor2 = connection.cursor()\n",
    "stmt = \"INSERT INTO uniqmaster (UNIQITEMID, USERID, JID, AID, STAGE,ITEMPROCESSINGDATE,ERRORCOUNT, COUNTER) VALUES(\"+\"\\'\"+out_list[0]+\"\\'\"+\",\"+\"\\'\"+out_list[1]+\"\\'\"+\",\"+\"\\'\"+out_list[2]+\"\\'\"+\",\"+\"\\'\"+out_list[3]+\"\\'\"+\",\"+\"\\'\"+out_list[4]+\"\\'\"+\",\"+\"\\'\"+out_list[5]+\"\\'\"+\",\"+str(out_list[6])+\",\"+str(out_list[7])+\");\"\n",
    "print(stmt)\n",
    "stmt1 = \"INSERT INTO uniqtranscation (UNIQTRANSACTIONID, UNIQITEMID, CATEGORY, RULEID, ERRORDESC,COUNTER) VALUES(\"+\"\\'\"+out_list0[0]+\"\\'\"+\",\"+\"\\'\"+out_list0[1]+\"\\'\"+\",\"+\"\\'\"+out_list0[2]+\"\\'\"+\",\"+\"\\'\"+out_list0[3]+\"\\'\"+\",\"+\"\\'\"+out_list0[4]+\"\\'\"+\",\"+str(out_list0[5])+\");\"\n",
    "print(stmt1)\n",
    "cursor.execute(stmt)\n",
    "cursor2.execute(stmt1)\n",
    "connection.commit()\n",
    "cursor.close()\n",
    "connection.close()"
   ]
  },
  {
   "cell_type": "code",
   "execution_count": null,
   "metadata": {},
   "outputs": [],
   "source": []
  }
 ],
 "metadata": {
  "kernelspec": {
   "display_name": "Python 3",
   "language": "python",
   "name": "python3"
  },
  "language_info": {
   "codemirror_mode": {
    "name": "ipython",
    "version": 3
   },
   "file_extension": ".py",
   "mimetype": "text/x-python",
   "name": "python",
   "nbconvert_exporter": "python",
   "pygments_lexer": "ipython3",
   "version": "3.6.8"
  }
 },
 "nbformat": 4,
 "nbformat_minor": 2
}
