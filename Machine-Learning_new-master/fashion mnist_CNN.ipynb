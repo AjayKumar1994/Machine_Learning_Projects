{
 "cells": [
  {
   "cell_type": "code",
   "execution_count": 1,
   "metadata": {},
   "outputs": [
    {
     "name": "stderr",
     "output_type": "stream",
     "text": [
      "/home/joseph/anaconda3/lib/python3.6/site-packages/h5py/__init__.py:36: FutureWarning: Conversion of the second argument of issubdtype from `float` to `np.floating` is deprecated. In future, it will be treated as `np.float64 == np.dtype(float).type`.\n",
      "  from ._conv import register_converters as _register_converters\n"
     ]
    }
   ],
   "source": [
    "import tensorflow as tf"
   ]
  },
  {
   "cell_type": "code",
   "execution_count": 2,
   "metadata": {},
   "outputs": [
    {
     "name": "stderr",
     "output_type": "stream",
     "text": [
      "Using TensorFlow backend.\n"
     ]
    }
   ],
   "source": [
    "import keras"
   ]
  },
  {
   "cell_type": "code",
   "execution_count": 32,
   "metadata": {},
   "outputs": [],
   "source": [
    "#from keras.datasets import fashion_mnist, mnist\n",
    "import numpy as np\n",
    "import pandas as pd\n"
   ]
  },
  {
   "cell_type": "markdown",
   "metadata": {},
   "source": [
    "  \n",
    "Seperate the input vectors with the label & \n",
    "Change class label into categorical, or one-hot encoding\n"
   ]
  },
  {
   "cell_type": "code",
   "execution_count": 33,
   "metadata": {},
   "outputs": [],
   "source": [
    "from keras.utils import to_categorical\n",
    "data_train = pd.read_csv('fashion-mnist_train.csv')\n",
    "data_test = pd.read_csv('fashion-mnist_test.csv')\n",
    "X_train = np.array(data_train.iloc[:, 1:])\n",
    "X_test = np.array(data_test.iloc[:, 1:])\n",
    "y_train = to_categorical(np.array(data_train.iloc[:, 0]))\n",
    "y_test = to_categorical(np.array(data_test.iloc[:, 0]))\n"
   ]
  },
  {
   "cell_type": "code",
   "execution_count": 36,
   "metadata": {},
   "outputs": [
    {
     "data": {
      "text/plain": [
       "60000"
      ]
     },
     "execution_count": 36,
     "metadata": {},
     "output_type": "execute_result"
    }
   ],
   "source": [
    "X_train.shape[0]"
   ]
  },
  {
   "cell_type": "markdown",
   "metadata": {},
   "source": [
    "\n",
    "\n",
    " #   Reshape the input from flat array to 2D matrix\n",
    "  #  Normalize the value\n",
    "\n"
   ]
  },
  {
   "cell_type": "code",
   "execution_count": 37,
   "metadata": {},
   "outputs": [],
   "source": [
    "img_rows, img_cols = 28, 28\n",
    "X_train = X_train.reshape(X_train.shape[0], img_rows, img_cols, 1)\n",
    "X_test = X_test.reshape(X_test.shape[0], img_rows, img_cols, 1)\n",
    "input_shape = (img_rows, img_cols, 1)\n",
    "\n",
    "X_train = X_train.astype('float32')\n",
    "X_test = X_test.astype('float32')\n",
    "X_train /= 255\n",
    "X_test /= 255"
   ]
  },
  {
   "cell_type": "markdown",
   "metadata": {},
   "source": [
    "# The standart way to build a CNN is repeatedly stacking Convolution layer -> Max Pooling layer -> Convolution layer -> Max Pooling layer -> ... and flatten it as an input into fully-connected networks. Dropout layers are used to prevent overfitting"
   ]
  },
  {
   "cell_type": "code",
   "execution_count": 47,
   "metadata": {},
   "outputs": [],
   "source": [
    "from keras.models import Sequential\n",
    "from keras.layers import Dense, Activation, Dropout, Flatten, Conv2D, MaxPooling2D\n",
    "\n",
    "input_shape = (img_rows, img_cols, 1)\n",
    "model = Sequential()\n",
    "model.add(Conv2D(32, kernel_size=(3, 3),\n",
    "                 activation='relu',\n",
    "                 input_shape=input_shape))\n",
    "model.add(MaxPooling2D(pool_size=(2, 2)))\n",
    "model.add(Dropout(0.25))\n",
    "model.add(Conv2D(64, (3, 3), activation='relu'))\n",
    "model.add(MaxPooling2D(pool_size=(2, 2)))\n",
    "model.add(Dropout(0.25))\n",
    "model.add(Flatten())\n",
    "model.add(Dense(250, activation='relu'))\n",
    "model.add(Dropout(0.5))\n",
    "model.add(Dense(10, activation='softmax'))\n",
    "model.compile(optimizer='adam',\n",
    "          loss='categorical_crossentropy',\n",
    "          metrics=['accuracy'])"
   ]
  },
  {
   "cell_type": "code",
   "execution_count": 48,
   "metadata": {},
   "outputs": [
    {
     "name": "stdout",
     "output_type": "stream",
     "text": [
      "_________________________________________________________________\n",
      "Layer (type)                 Output Shape              Param #   \n",
      "=================================================================\n",
      "conv2d_7 (Conv2D)            (None, 26, 26, 32)        320       \n",
      "_________________________________________________________________\n",
      "max_pooling2d_7 (MaxPooling2 (None, 13, 13, 32)        0         \n",
      "_________________________________________________________________\n",
      "dropout_10 (Dropout)         (None, 13, 13, 32)        0         \n",
      "_________________________________________________________________\n",
      "conv2d_8 (Conv2D)            (None, 11, 11, 64)        18496     \n",
      "_________________________________________________________________\n",
      "max_pooling2d_8 (MaxPooling2 (None, 5, 5, 64)          0         \n",
      "_________________________________________________________________\n",
      "dropout_11 (Dropout)         (None, 5, 5, 64)          0         \n",
      "_________________________________________________________________\n",
      "flatten_4 (Flatten)          (None, 1600)              0         \n",
      "_________________________________________________________________\n",
      "dense_7 (Dense)              (None, 250)               400250    \n",
      "_________________________________________________________________\n",
      "dropout_12 (Dropout)         (None, 250)               0         \n",
      "_________________________________________________________________\n",
      "dense_8 (Dense)              (None, 10)                2510      \n",
      "=================================================================\n",
      "Total params: 421,576\n",
      "Trainable params: 421,576\n",
      "Non-trainable params: 0\n",
      "_________________________________________________________________\n"
     ]
    }
   ],
   "source": [
    "model.summary()"
   ]
  },
  {
   "cell_type": "code",
   "execution_count": 41,
   "metadata": {},
   "outputs": [
    {
     "name": "stdout",
     "output_type": "stream",
     "text": [
      "Train on 40199 samples, validate on 19801 samples\n",
      "Epoch 1/15\n",
      "40199/40199 [==============================] - 38s 946us/step - loss: 0.6111 - acc: 0.7730 - val_loss: 0.3989 - val_acc: 0.8573\n",
      "Epoch 2/15\n",
      "40199/40199 [==============================] - 37s 920us/step - loss: 0.4140 - acc: 0.8475 - val_loss: 0.3344 - val_acc: 0.8778\n",
      "Epoch 3/15\n",
      "40199/40199 [==============================] - 39s 960us/step - loss: 0.3671 - acc: 0.8651 - val_loss: 0.3042 - val_acc: 0.8874\n",
      "Epoch 4/15\n",
      "40199/40199 [==============================] - 39s 981us/step - loss: 0.3377 - acc: 0.8762 - val_loss: 0.2928 - val_acc: 0.8968\n",
      "Epoch 5/15\n",
      "40199/40199 [==============================] - 39s 968us/step - loss: 0.3146 - acc: 0.8831 - val_loss: 0.2752 - val_acc: 0.8989\n",
      "Epoch 6/15\n",
      "40199/40199 [==============================] - 38s 944us/step - loss: 0.3005 - acc: 0.8892 - val_loss: 0.2668 - val_acc: 0.9056\n",
      "Epoch 7/15\n",
      "40199/40199 [==============================] - 37s 927us/step - loss: 0.2857 - acc: 0.8938 - val_loss: 0.2635 - val_acc: 0.9043\n",
      "Epoch 8/15\n",
      "40199/40199 [==============================] - 38s 937us/step - loss: 0.2799 - acc: 0.8956 - val_loss: 0.2641 - val_acc: 0.9046\n",
      "Epoch 9/15\n",
      "40199/40199 [==============================] - 38s 933us/step - loss: 0.2676 - acc: 0.9008 - val_loss: 0.2529 - val_acc: 0.9090\n",
      "Epoch 10/15\n",
      "40199/40199 [==============================] - 39s 965us/step - loss: 0.2619 - acc: 0.9029 - val_loss: 0.2587 - val_acc: 0.9076\n",
      "Epoch 11/15\n",
      "40199/40199 [==============================] - 38s 957us/step - loss: 0.2568 - acc: 0.9029 - val_loss: 0.2568 - val_acc: 0.9071\n",
      "Epoch 12/15\n",
      "40199/40199 [==============================] - 38s 934us/step - loss: 0.2473 - acc: 0.9092 - val_loss: 0.2502 - val_acc: 0.9091\n",
      "Epoch 13/15\n",
      "40199/40199 [==============================] - 38s 953us/step - loss: 0.2436 - acc: 0.9078 - val_loss: 0.2416 - val_acc: 0.9143\n",
      "Epoch 14/15\n",
      "40199/40199 [==============================] - 38s 953us/step - loss: 0.2376 - acc: 0.9098 - val_loss: 0.2465 - val_acc: 0.9111\n",
      "Epoch 15/15\n",
      "40199/40199 [==============================] - 38s 955us/step - loss: 0.2379 - acc: 0.9100 - val_loss: 0.2539 - val_acc: 0.9121\n",
      "Returned: <keras.callbacks.History object at 0x7f0ecfd714e0>\n"
     ]
    }
   ],
   "source": [
    "r = model.fit(X_train, y_train, validation_split=0.33, epochs=15, batch_size=32)\n",
    "print(\"Returned:\", r)\n"
   ]
  },
  {
   "cell_type": "markdown",
   "metadata": {},
   "source": [
    "# print available keys"
   ]
  },
  {
   "cell_type": "code",
   "execution_count": 42,
   "metadata": {},
   "outputs": [
    {
     "name": "stdout",
     "output_type": "stream",
     "text": [
      "dict_keys(['val_loss', 'val_acc', 'loss', 'acc'])\n"
     ]
    }
   ],
   "source": [
    "print(r.history.keys())"
   ]
  },
  {
   "cell_type": "markdown",
   "metadata": {},
   "source": [
    "# plot data"
   ]
  },
  {
   "cell_type": "code",
   "execution_count": 43,
   "metadata": {},
   "outputs": [
    {
     "data": {
      "image/png": "[encoded data removed]",
      "text/plain": [
       "<matplotlib.figure.Figure at 0x7f0eced22b70>"
      ]
     },
     "metadata": {},
     "output_type": "display_data"
    }
   ],
   "source": [
    "plt.plot(r.history['loss'], label='loss')\n",
    "plt.plot(r.history['val_loss'], label='val_loss')\n",
    "plt.legend()\n",
    "plt.show()"
   ]
  },
  {
   "cell_type": "markdown",
   "metadata": {},
   "source": [
    "# accuracies"
   ]
  },
  {
   "cell_type": "code",
   "execution_count": 44,
   "metadata": {},
   "outputs": [
    {
     "data": {
      "image/png": "[encoded data removed]",
      "text/plain": [
       "<matplotlib.figure.Figure at 0x7f0eceeab8d0>"
      ]
     },
     "metadata": {},
     "output_type": "display_data"
    }
   ],
   "source": [
    "plt.plot(r.history['acc'], label='acc')\n",
    "plt.plot(r.history['val_acc'], label='val_acc')\n",
    "plt.legend()\n",
    "plt.show()"
   ]
  },
  {
   "cell_type": "code",
   "execution_count": null,
   "metadata": {},
   "outputs": [],
   "source": []
  }
 ],
 "metadata": {
  "kernelspec": {
   "display_name": "Python 3",
   "language": "python",
   "name": "python3"
  },
  "language_info": {
   "codemirror_mode": {
    "name": "ipython",
    "version": 3
   },
   "file_extension": ".py",
   "mimetype": "text/x-python",
   "name": "python",
   "nbconvert_exporter": "python",
   "pygments_lexer": "ipython3",
   "version": "3.6.4"
  }
 },
 "nbformat": 4,
 "nbformat_minor": 2
}
