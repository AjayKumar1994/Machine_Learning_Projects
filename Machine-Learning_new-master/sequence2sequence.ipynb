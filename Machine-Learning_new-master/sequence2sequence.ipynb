{
 "cells": [
  {
   "cell_type": "markdown",
   "metadata": {
    "colab": {
     "base_uri": "https://localhost:8080/",
     "height": 54
    },
    "colab_type": "code",
    "id": "O5aXPMpeWyBI",
    "outputId": "5a1b2519-54b2-41cd-86e3-562e9756975e"
   },
   "source": [
    "# Importing Libraries"
   ]
  },
  {
   "cell_type": "code",
   "execution_count": null,
   "metadata": {},
   "outputs": [],
   "source": [
    "\n",
    "import pandas as pd\n",
    "from keras.preprocessing.text import Tokenizer\n",
    "from nltk.tokenize import word_tokenize\n",
    "import nltk\n",
    "nltk.download('punkt')\n",
    "import numpy as np\n",
    "import matplotlib.pyplot as plt\n",
    "%matplotlib inline\n",
    "from keras.preprocessing.sequence import pad_sequences\n",
    "from sklearn.model_selection import train_test_split\n",
    "from keras.models import Sequential\n",
    "from keras.layers import Dense, LSTM, Embedding, RepeatVector\n",
    "from keras import optimizers\n",
    "from keras.callbacks import ModelCheckpoint\n",
    "from keras.models import load_model\n",
    "\n",
    "\n"
   ]
  },
  {
   "cell_type": "code",
   "execution_count": 3,
   "metadata": {
    "colab": {
     "base_uri": "https://localhost:8080/",
     "height": 84,
     "resources": {
      "http://localhost:8080/nbextensions/google.colab/files.js": {
       "data": "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",
       "headers": [
        [
         "content-type",
         "application/javascript"
        ]
       ],
       "ok": true,
       "status": 200,
       "status_text": "OK"
      }
     }
    },
    "colab_type": "code",
    "id": "yNP3_3g0XNl9",
    "outputId": "3cab6340-ff86-482b-8d4e-5cdaa6364635"
   },
   "outputs": [
    {
     "data": {
      "text/html": [
       "\n",
       "     <input type=\"file\" id=\"files-369cc3c4-6c6e-43b3-98cb-0a1ed086910d\" name=\"files[]\" multiple disabled />\n",
       "     <output id=\"result-369cc3c4-6c6e-43b3-98cb-0a1ed086910d\">\n",
       "      Upload widget is only available when the cell has been executed in the\n",
       "      current browser session. Please rerun this cell to enable.\n",
       "      </output>\n",
       "      <script src=\"/nbextensions/google.colab/files.js\"></script> "
      ],
      "text/plain": [
       "<IPython.core.display.HTML object>"
      ]
     },
     "metadata": {
      "tags": []
     },
     "output_type": "display_data"
    },
    {
     "name": "stdout",
     "output_type": "stream",
     "text": [
      "Saving assignment.csv to assignment (7).csv\n"
     ]
    }
   ],
   "source": [
    "# uploading files\n",
    "from google.colab import files\n",
    "uploaded = files.upload()"
   ]
  },
  {
   "cell_type": "markdown",
   "metadata": {},
   "source": [
    "# Reading Input files"
   ]
  },
  {
   "cell_type": "code",
   "execution_count": 0,
   "metadata": {
    "colab": {},
    "colab_type": "code",
    "id": "EkNtoiw6WyBV"
   },
   "outputs": [],
   "source": [
    "# reading the input file\n",
    "tf = pd.read_csv(\"assignment.csv\")"
   ]
  },
  {
   "cell_type": "code",
   "execution_count": 5,
   "metadata": {
    "colab": {
     "base_uri": "https://localhost:8080/",
     "height": 206
    },
    "colab_type": "code",
    "id": "AiC_40JsWyBg",
    "outputId": "d0562c3a-277b-439e-8407-9fab8127a6f1"
   },
   "outputs": [
    {
     "data": {
      "text/html": [
       "<div>\n",
       "<style scoped>\n",
       "    .dataframe tbody tr th:only-of-type {\n",
       "        vertical-align: middle;\n",
       "    }\n",
       "\n",
       "    .dataframe tbody tr th {\n",
       "        vertical-align: top;\n",
       "    }\n",
       "\n",
       "    .dataframe thead th {\n",
       "        text-align: right;\n",
       "    }\n",
       "</style>\n",
       "<table border=\"1\" class=\"dataframe\">\n",
       "  <thead>\n",
       "    <tr style=\"text-align: right;\">\n",
       "      <th></th>\n",
       "      <th>unique_id</th>\n",
       "      <th>raw_text</th>\n",
       "      <th>review_text</th>\n",
       "    </tr>\n",
       "  </thead>\n",
       "  <tbody>\n",
       "    <tr>\n",
       "      <th>0</th>\n",
       "      <td>0</td>\n",
       "      <td>Spiritually and mentally inspiring! A book tha...</td>\n",
       "      <td>Menginspirasi secara spiritual dan mental! Buk...</td>\n",
       "    </tr>\n",
       "    <tr>\n",
       "      <th>1</th>\n",
       "      <td>1</td>\n",
       "      <td>This is one my must have books</td>\n",
       "      <td>Ini adalah salah satu yang harus saya miliki buku</td>\n",
       "    </tr>\n",
       "    <tr>\n",
       "      <th>2</th>\n",
       "      <td>2</td>\n",
       "      <td>It is a masterpiece of spirituality</td>\n",
       "      <td>Itu adalah mahakarya spiritualitas</td>\n",
       "    </tr>\n",
       "    <tr>\n",
       "      <th>3</th>\n",
       "      <td>3</td>\n",
       "      <td>I'll be the first to admit, its literary qual...</td>\n",
       "      <td>Saya akan menjadi yang pertama mengakui, kuali...</td>\n",
       "    </tr>\n",
       "    <tr>\n",
       "      <th>4</th>\n",
       "      <td>4</td>\n",
       "      <td>It is rather simplistically written, but the ...</td>\n",
       "      <td>Ini ditulis agak sederhana, tetapi pesan di ba...</td>\n",
       "    </tr>\n",
       "  </tbody>\n",
       "</table>\n",
       "</div>"
      ],
      "text/plain": [
       "   unique_id  ...                                        review_text\n",
       "0          0  ...  Menginspirasi secara spiritual dan mental! Buk...\n",
       "1          1  ...  Ini adalah salah satu yang harus saya miliki buku\n",
       "2          2  ...                 Itu adalah mahakarya spiritualitas\n",
       "3          3  ...  Saya akan menjadi yang pertama mengakui, kuali...\n",
       "4          4  ...  Ini ditulis agak sederhana, tetapi pesan di ba...\n",
       "\n",
       "[5 rows x 3 columns]"
      ]
     },
     "execution_count": 5,
     "metadata": {
      "tags": []
     },
     "output_type": "execute_result"
    }
   ],
   "source": [
    "tf.head()"
   ]
  },
  {
   "cell_type": "markdown",
   "metadata": {},
   "source": [
    "# Cleaning texts"
   ]
  },
  {
   "cell_type": "code",
   "execution_count": 0,
   "metadata": {
    "colab": {},
    "colab_type": "code",
    "id": "mHrhneNoWyBp"
   },
   "outputs": [],
   "source": [
    "# Remove punctuation\n",
    "# cleaning the text using regular expressions, deleting everything other than alphabets\n",
    "tf['raw_text'] = tf['raw_text'].str.replace(\"[^a-zA-Z]\", \" \")\n",
    "tf['review_text'] = tf['review_text'].str.replace(\"[^a-zA-Z]\", \" \")"
   ]
  },
  {
   "cell_type": "code",
   "execution_count": 0,
   "metadata": {
    "colab": {},
    "colab_type": "code",
    "id": "_v7_ciFJWyBw"
   },
   "outputs": [],
   "source": [
    "\n",
    "tf1 = tf[['raw_text','review_text']]\n",
    "\n",
    "#tf1"
   ]
  },
  {
   "cell_type": "code",
   "execution_count": 8,
   "metadata": {
    "colab": {
     "base_uri": "https://localhost:8080/",
     "height": 35
    },
    "colab_type": "code",
    "id": "7TR-fZ0XWyB4",
    "outputId": "497a96e2-ad7f-467b-b8e9-7a5a8fac8cdc"
   },
   "outputs": [
    {
     "data": {
      "text/plain": [
       "(53757, 2)"
      ]
     },
     "execution_count": 8,
     "metadata": {
      "tags": []
     },
     "output_type": "execute_result"
    }
   ],
   "source": [
    "tf1.shape"
   ]
  },
  {
   "cell_type": "code",
   "execution_count": 0,
   "metadata": {
    "colab": {},
    "colab_type": "code",
    "id": "9pK-Y7b5WyCA"
   },
   "outputs": [],
   "source": [
    "# considering part of dataset to save time and memory\n",
    "tf1 = tf1.iloc[:18000,:]"
   ]
  },
  {
   "cell_type": "code",
   "execution_count": 10,
   "metadata": {
    "colab": {
     "base_uri": "https://localhost:8080/",
     "height": 35
    },
    "colab_type": "code",
    "id": "V5WME8h7WyCG",
    "outputId": "681717f1-d8bd-4969-c6eb-29e6a312954d"
   },
   "outputs": [
    {
     "data": {
      "text/plain": [
       "(18000, 2)"
      ]
     },
     "execution_count": 10,
     "metadata": {
      "tags": []
     },
     "output_type": "execute_result"
    }
   ],
   "source": [
    "tf1.shape"
   ]
  },
  {
   "cell_type": "markdown",
   "metadata": {
    "colab": {},
    "colab_type": "code",
    "id": "xFY6X8YRWyCO"
   },
   "source": [
    "# Histogram representing length of Indonesian and English texts"
   ]
  },
  {
   "cell_type": "code",
   "execution_count": 11,
   "metadata": {
    "colab": {
     "base_uri": "https://localhost:8080/",
     "height": 281
    },
    "colab_type": "code",
    "id": "g_9oZd1ZWyCV",
    "outputId": "33083542-6841-4051-b99a-86558897b307"
   },
   "outputs": [
    {
     "data": {
      "image/png": "[encoded data removed]",
      "text/plain": [
       "<Figure size 432x288 with 1 Axes>"
      ]
     },
     "metadata": {
      "tags": []
     },
     "output_type": "display_data"
    }
   ],
   "source": [
    "\n",
    "t_len=[]\n",
    "for text in tf1['raw_text']:\n",
    "    word=word_tokenize(text)\n",
    "    #print(word)\n",
    "    l=len(word)\n",
    "   # print(l)\n",
    "    t_len.append(l)\n",
    "    #print(t_len)\n",
    "#MAX_TEXT_LEN=np.max(len(t_len))\n",
    "#MAX_TEXT_LEN\n",
    "df = pd.DataFrame.from_dict({'tt':t_len})\n",
    "#length_df = pd.Dataframe({'tt':t_len})\n",
    "df.hist(bins = 30)\n",
    "plt.show()"
   ]
  },
  {
   "cell_type": "code",
   "execution_count": 12,
   "metadata": {
    "colab": {
     "base_uri": "https://localhost:8080/",
     "height": 391
    },
    "colab_type": "code",
    "id": "NHsEYOtFWyCe",
    "outputId": "7a49f6f8-6e39-4d9a-86a8-8e636da134e0"
   },
   "outputs": [
    {
     "name": "stderr",
     "output_type": "stream",
     "text": [
      "/usr/local/lib/python3.6/dist-packages/ipykernel_launcher.py:1: SettingWithCopyWarning: \n",
      "A value is trying to be set on a copy of a slice from a DataFrame.\n",
      "Try using .loc[row_indexer,col_indexer] = value instead\n",
      "\n",
      "See the caveats in the documentation: http://pandas.pydata.org/pandas-docs/stable/indexing.html#indexing-view-versus-copy\n",
      "  \"\"\"Entry point for launching an IPython kernel.\n"
     ]
    },
    {
     "data": {
      "image/png": "[encoded data removed]",
      "text/plain": [
       "<Figure size 432x288 with 1 Axes>"
      ]
     },
     "metadata": {
      "tags": []
     },
     "output_type": "display_data"
    }
   ],
   "source": [
    "#result = tf['review_text'].to_string(index = False)\n",
    "tf1['review_text'] = tf1['review_text'].astype(str)\n",
    "r_len=[]\n",
    "for text  in  tf1['review_text']:\n",
    "    tokens = word_tokenize(text)\n",
    "    #print(tokens)\n",
    "   # words = [word for word in tokens if word.isalpha()]\n",
    "    l=len( tokens)\n",
    "    r_len.append(l)\n",
    "   # print(r_len)    \n",
    "df = pd.DataFrame.from_dict({'tt':r_len})\n",
    "#length_df = pd.Dataframe({'tt':t_len})\n",
    "df.hist(bins = 30)\n",
    "plt.show()\n"
   ]
  },
  {
   "cell_type": "markdown",
   "metadata": {},
   "source": [
    "# Building tokenizer for Indonesian and English texts "
   ]
  },
  {
   "cell_type": "code",
   "execution_count": 0,
   "metadata": {
    "colab": {},
    "colab_type": "code",
    "id": "IoJ4oxo5WyCt"
   },
   "outputs": [],
   "source": [
    "# function to build a tokenizer\n",
    "def tokenization(lines):\n",
    "      tokenizer = Tokenizer()\n",
    "      tokenizer.fit_on_texts(lines)\n",
    "      return tokenizer"
   ]
  },
  {
   "cell_type": "code",
   "execution_count": 14,
   "metadata": {
    "colab": {
     "base_uri": "https://localhost:8080/",
     "height": 35
    },
    "colab_type": "code",
    "id": "IgosB9zNWyCy",
    "outputId": "017ceabc-f9bf-4fd5-bd6a-1e3f0f34b9ad"
   },
   "outputs": [
    {
     "name": "stdout",
     "output_type": "stream",
     "text": [
      "English Vocabulary Size: 13378\n"
     ]
    }
   ],
   "source": [
    "# prepare english tokenizer\n",
    "eng_tokenizer = tokenization(tf1['raw_text'])\n",
    "eng_vocab_size = len(eng_tokenizer.word_index) + 1\n",
    "print('English Vocabulary Size: %d' % eng_vocab_size)"
   ]
  },
  {
   "cell_type": "code",
   "execution_count": 15,
   "metadata": {
    "colab": {
     "base_uri": "https://localhost:8080/",
     "height": 35
    },
    "colab_type": "code",
    "id": "eANUBoYjWyC5",
    "outputId": "ea8afee4-2dca-42aa-fe92-6afc17f1064e"
   },
   "outputs": [
    {
     "name": "stdout",
     "output_type": "stream",
     "text": [
      "Indonesian Vocabulary Size: 11077\n"
     ]
    }
   ],
   "source": [
    "# prepare indonesian tokenizer\n",
    "indonesian_tokenizer = tokenization(tf1['review_text'])\n",
    "indonesian_vocab_size = len(indonesian_tokenizer.word_index) + 1\n",
    "print('Indonesian Vocabulary Size: %d' % indonesian_vocab_size)"
   ]
  },
  {
   "cell_type": "markdown",
   "metadata": {},
   "source": [
    "# Padding sequences for considering same length"
   ]
  },
  {
   "cell_type": "code",
   "execution_count": 0,
   "metadata": {
    "colab": {},
    "colab_type": "code",
    "id": "oCDzDxcCWyDA"
   },
   "outputs": [],
   "source": [
    "# encode and pad sequences\n",
    "def encode_sequences(tokenizer, length, lines):\n",
    "         # integer encode sequences\n",
    "         seq = tokenizer.texts_to_sequences(lines)\n",
    "         # pad sequences with 0 values\n",
    "         seq = pad_sequences(seq, maxlen=length, padding='post')\n",
    "         return seq"
   ]
  },
  {
   "cell_type": "markdown",
   "metadata": {},
   "source": [
    "# Train test split"
   ]
  },
  {
   "cell_type": "code",
   "execution_count": 0,
   "metadata": {
    "colab": {},
    "colab_type": "code",
    "id": "z4cI-W5aWyDF"
   },
   "outputs": [],
   "source": [
    "\n",
    "# split data into train and test set\n",
    "#X_train, X_val, Y_train, Y_val = train_test_split(tf1['review_text'],tf1['raw_text'], test_size=0.2, random_state = 12)\n",
    "train,test = train_test_split(tf1, test_size=0.2, random_state = 12)"
   ]
  },
  {
   "cell_type": "markdown",
   "metadata": {
    "colab": {},
    "colab_type": "code",
    "id": "Kavof1yuWyDM"
   },
   "source": [
    "# Data preparation for modelling"
   ]
  },
  {
   "cell_type": "code",
   "execution_count": 0,
   "metadata": {
    "colab": {},
    "colab_type": "code",
    "id": "xKuiMcpyWyDR"
   },
   "outputs": [],
   "source": [
    "# frequency of words of length more than 50 is less so considering 50 as length\n",
    "indonesian_length = 50\n",
    "eng_length = 50\n",
    "\n",
    "# prepare training data\n",
    "trainX = encode_sequences(indonesian_tokenizer, indonesian_length, train['review_text'])\n",
    "trainY = encode_sequences(eng_tokenizer, eng_length, train['raw_text'])\n",
    "\n",
    "# prepare validation data\n",
    "testX = encode_sequences(indonesian_tokenizer, indonesian_length, test['review_text'])\n",
    "testY = encode_sequences(eng_tokenizer, eng_length, test['raw_text'])\n"
   ]
  },
  {
   "cell_type": "markdown",
   "metadata": {},
   "source": [
    "# Building the model"
   ]
  },
  {
   "cell_type": "code",
   "execution_count": 0,
   "metadata": {
    "colab": {},
    "colab_type": "code",
    "id": "m2qbqPaEWyDe"
   },
   "outputs": [],
   "source": [
    "# build NMT model\n",
    "def define_model(in_vocab,out_vocab, in_timesteps,out_timesteps,units):\n",
    "      model = Sequential()\n",
    "      model.add(Embedding(in_vocab, units, input_length=in_timesteps, mask_zero=True))\n",
    "      model.add(LSTM(units))\n",
    "      model.add(RepeatVector(out_timesteps))\n",
    "      model.add(LSTM(units, return_sequences=True))\n",
    "      model.add(Dense(out_vocab, activation='softmax'))\n",
    "      return model"
   ]
  },
  {
   "cell_type": "code",
   "execution_count": 0,
   "metadata": {
    "colab": {},
    "colab_type": "code",
    "id": "VNzbaDP6WyDj"
   },
   "outputs": [],
   "source": [
    "\n",
    "# model compilation\n",
    "model = define_model(indonesian_vocab_size, eng_vocab_size, indonesian_length, eng_length, 256)"
   ]
  },
  {
   "cell_type": "code",
   "execution_count": 0,
   "metadata": {
    "colab": {},
    "colab_type": "code",
    "id": "chIn99ZnWyDr"
   },
   "outputs": [],
   "source": [
    "\n",
    "rms = optimizers.RMSprop(lr=0.001)\n",
    "model.compile(optimizer=rms, loss='sparse_categorical_crossentropy')"
   ]
  },
  {
   "cell_type": "markdown",
   "metadata": {},
   "source": [
    "# Model Training"
   ]
  },
  {
   "cell_type": "code",
   "execution_count": 25,
   "metadata": {
    "colab": {
     "base_uri": "https://localhost:8080/",
     "height": 1000
    },
    "colab_type": "code",
    "id": "H_5WpaHxWyDu",
    "outputId": "df2b90a3-6a61-419a-ffac-e6282e8f9378"
   },
   "outputs": [
    {
     "name": "stdout",
     "output_type": "stream",
     "text": [
      "Train on 11520 samples, validate on 2880 samples\n",
      "Epoch 1/30\n",
      "11520/11520 [==============================] - 41s 4ms/step - loss: 2.1750 - val_loss: 2.2909\n",
      "\n",
      "Epoch 00001: val_loss improved from inf to 2.29094, saving model to model.1000\n",
      "Epoch 2/30\n",
      "11520/11520 [==============================] - 39s 3ms/step - loss: 2.1710 - val_loss: 2.3630\n",
      "\n",
      "Epoch 00002: val_loss did not improve from 2.29094\n",
      "Epoch 3/30\n",
      "11520/11520 [==============================] - 39s 3ms/step - loss: 2.1479 - val_loss: 2.2895\n",
      "\n",
      "Epoch 00003: val_loss improved from 2.29094 to 2.28949, saving model to model.1000\n",
      "Epoch 4/30\n",
      "11520/11520 [==============================] - 39s 3ms/step - loss: 2.1454 - val_loss: 2.3291\n",
      "\n",
      "Epoch 00004: val_loss did not improve from 2.28949\n",
      "Epoch 5/30\n",
      "11520/11520 [==============================] - 39s 3ms/step - loss: 2.1298 - val_loss: 2.3281\n",
      "\n",
      "Epoch 00005: val_loss did not improve from 2.28949\n",
      "Epoch 6/30\n",
      "11520/11520 [==============================] - 39s 3ms/step - loss: 2.1165 - val_loss: 2.2641\n",
      "\n",
      "Epoch 00006: val_loss improved from 2.28949 to 2.26415, saving model to model.1000\n",
      "Epoch 7/30\n",
      "11520/11520 [==============================] - 39s 3ms/step - loss: 2.1062 - val_loss: 2.2412\n",
      "\n",
      "Epoch 00007: val_loss improved from 2.26415 to 2.24119, saving model to model.1000\n",
      "Epoch 8/30\n",
      "11520/11520 [==============================] - 38s 3ms/step - loss: 2.0944 - val_loss: 2.2361\n",
      "\n",
      "Epoch 00008: val_loss improved from 2.24119 to 2.23609, saving model to model.1000\n",
      "Epoch 9/30\n",
      "11520/11520 [==============================] - 38s 3ms/step - loss: 2.0809 - val_loss: 2.2479\n",
      "\n",
      "Epoch 00009: val_loss did not improve from 2.23609\n",
      "Epoch 10/30\n",
      "11520/11520 [==============================] - 38s 3ms/step - loss: 2.0686 - val_loss: 2.2415\n",
      "\n",
      "Epoch 00010: val_loss did not improve from 2.23609\n",
      "Epoch 11/30\n",
      "11520/11520 [==============================] - 39s 3ms/step - loss: 2.0581 - val_loss: 2.2458\n",
      "\n",
      "Epoch 00011: val_loss did not improve from 2.23609\n",
      "Epoch 12/30\n",
      "11520/11520 [==============================] - 39s 3ms/step - loss: 2.0456 - val_loss: 2.2945\n",
      "\n",
      "Epoch 00012: val_loss did not improve from 2.23609\n",
      "Epoch 13/30\n",
      "11520/11520 [==============================] - 38s 3ms/step - loss: 2.0354 - val_loss: 2.2246\n",
      "\n",
      "Epoch 00013: val_loss improved from 2.23609 to 2.22461, saving model to model.1000\n",
      "Epoch 14/30\n",
      "11520/11520 [==============================] - 38s 3ms/step - loss: 2.0246 - val_loss: 2.2519\n",
      "\n",
      "Epoch 00014: val_loss did not improve from 2.22461\n",
      "Epoch 15/30\n",
      "11520/11520 [==============================] - 38s 3ms/step - loss: 2.0138 - val_loss: 2.2808\n",
      "\n",
      "Epoch 00015: val_loss did not improve from 2.22461\n",
      "Epoch 16/30\n",
      "11520/11520 [==============================] - 38s 3ms/step - loss: 2.0046 - val_loss: 2.2509\n",
      "\n",
      "Epoch 00016: val_loss did not improve from 2.22461\n",
      "Epoch 17/30\n",
      "11520/11520 [==============================] - 38s 3ms/step - loss: 1.9928 - val_loss: 2.2174\n",
      "\n",
      "Epoch 00017: val_loss improved from 2.22461 to 2.21738, saving model to model.1000\n",
      "Epoch 18/30\n",
      "11520/11520 [==============================] - 38s 3ms/step - loss: 1.9845 - val_loss: 2.2222\n",
      "\n",
      "Epoch 00018: val_loss did not improve from 2.21738\n",
      "Epoch 19/30\n",
      "11520/11520 [==============================] - 39s 3ms/step - loss: 1.9719 - val_loss: 2.2091\n",
      "\n",
      "Epoch 00019: val_loss improved from 2.21738 to 2.20909, saving model to model.1000\n",
      "Epoch 20/30\n",
      "11520/11520 [==============================] - 39s 3ms/step - loss: 1.9597 - val_loss: 2.2122\n",
      "\n",
      "Epoch 00020: val_loss did not improve from 2.20909\n",
      "Epoch 21/30\n",
      "11520/11520 [==============================] - 38s 3ms/step - loss: 1.9530 - val_loss: 2.2421\n",
      "\n",
      "Epoch 00021: val_loss did not improve from 2.20909\n",
      "Epoch 22/30\n",
      "11520/11520 [==============================] - 38s 3ms/step - loss: 1.9400 - val_loss: 2.2043\n",
      "\n",
      "Epoch 00022: val_loss improved from 2.20909 to 2.20431, saving model to model.1000\n",
      "Epoch 23/30\n",
      "11520/11520 [==============================] - 39s 3ms/step - loss: 1.9282 - val_loss: 2.2126\n",
      "\n",
      "Epoch 00023: val_loss did not improve from 2.20431\n",
      "Epoch 24/30\n",
      "11520/11520 [==============================] - 38s 3ms/step - loss: 1.9203 - val_loss: 2.2091\n",
      "\n",
      "Epoch 00024: val_loss did not improve from 2.20431\n",
      "Epoch 25/30\n",
      "11520/11520 [==============================] - 38s 3ms/step - loss: 1.9109 - val_loss: 2.2027\n",
      "\n",
      "Epoch 00025: val_loss improved from 2.20431 to 2.20270, saving model to model.1000\n",
      "Epoch 26/30\n",
      "11520/11520 [==============================] - 38s 3ms/step - loss: 1.8994 - val_loss: 2.2097\n",
      "\n",
      "Epoch 00026: val_loss did not improve from 2.20270\n",
      "Epoch 27/30\n",
      "11520/11520 [==============================] - 39s 3ms/step - loss: 1.8897 - val_loss: 2.1970\n",
      "\n",
      "Epoch 00027: val_loss improved from 2.20270 to 2.19696, saving model to model.1000\n",
      "Epoch 28/30\n",
      "11520/11520 [==============================] - 39s 3ms/step - loss: 1.8794 - val_loss: 2.2202\n",
      "\n",
      "Epoch 00028: val_loss did not improve from 2.19696\n",
      "Epoch 29/30\n",
      "11520/11520 [==============================] - 39s 3ms/step - loss: 1.8699 - val_loss: 2.2033\n",
      "\n",
      "Epoch 00029: val_loss did not improve from 2.19696\n",
      "Epoch 30/30\n",
      "11520/11520 [==============================] - 38s 3ms/step - loss: 1.8603 - val_loss: 2.2234\n",
      "\n",
      "Epoch 00030: val_loss did not improve from 2.19696\n"
     ]
    }
   ],
   "source": [
    "\n",
    "filename = 'model.1000'\n",
    "checkpoint = ModelCheckpoint(filename, monitor='val_loss', verbose=1, save_best_only=True, mode='min')\n",
    "\n",
    "# train model\n",
    "history = model.fit(trainX, trainY.reshape(trainY.shape[0], trainY.shape[1],1),\n",
    "                    epochs=30, batch_size=256, validation_split = 0.2,callbacks=[checkpoint], \n",
    "                    verbose=1)\n"
   ]
  },
  {
   "cell_type": "markdown",
   "metadata": {},
   "source": [
    "# Plotting loss for training and validation data"
   ]
  },
  {
   "cell_type": "code",
   "execution_count": 26,
   "metadata": {
    "colab": {
     "base_uri": "https://localhost:8080/",
     "height": 269
    },
    "colab_type": "code",
    "id": "uJUCoxusxRsK",
    "outputId": "71ea5660-174c-47e9-da3f-646727316ea6"
   },
   "outputs": [
    {
     "data": {
      "image/png": "[encoded data removed]",
      "text/plain": [
       "<Figure size 432x288 with 1 Axes>"
      ]
     },
     "metadata": {
      "tags": []
     },
     "output_type": "display_data"
    }
   ],
   "source": [
    "plt.plot(history.history['loss'])\n",
    "plt.plot(history.history['val_loss'])\n",
    "plt.legend(['train','validation'])\n",
    "plt.show()"
   ]
  },
  {
   "cell_type": "markdown",
   "metadata": {},
   "source": [
    "# Predicting the output"
   ]
  },
  {
   "cell_type": "code",
   "execution_count": 27,
   "metadata": {
    "colab": {
     "base_uri": "https://localhost:8080/",
     "height": 146
    },
    "colab_type": "code",
    "id": "HeJhNjh4WyD1",
    "outputId": "d6c4a358-7c53-4685-83d3-267cdd57d1a9"
   },
   "outputs": [
    {
     "data": {
      "text/plain": [
       "array([[ 2, 16,  9, ...,  0,  0,  0],\n",
       "       [ 9, 99,  8, ...,  0,  0,  0],\n",
       "       [ 1,  8,  8, ...,  0,  0,  0],\n",
       "       ...,\n",
       "       [ 6,  0,  0, ...,  0,  0,  0],\n",
       "       [38, 13,  5, ...,  0,  0,  0],\n",
       "       [ 2,  8,  4, ...,  0,  0,  0]])"
      ]
     },
     "execution_count": 27,
     "metadata": {
      "tags": []
     },
     "output_type": "execute_result"
    }
   ],
   "source": [
    "\n",
    "model = load_model('model.1000')\n",
    "preds = model.predict_classes(testX.reshape((testX.shape[0],testX.shape[1])))\n",
    "preds"
   ]
  },
  {
   "cell_type": "markdown",
   "metadata": {},
   "source": [
    "# Output integer to texts"
   ]
  },
  {
   "cell_type": "code",
   "execution_count": 0,
   "metadata": {
    "colab": {},
    "colab_type": "code",
    "id": "qgLqQPqGWyD5"
   },
   "outputs": [],
   "source": [
    "def get_word(n, tokenizer):\n",
    "      for word, index in tokenizer.word_index.items():\n",
    "          if index == n:\n",
    "              return word\n",
    "      return None"
   ]
  },
  {
   "cell_type": "code",
   "execution_count": 0,
   "metadata": {
    "colab": {},
    "colab_type": "code",
    "id": "lZpjuDRfWyD_"
   },
   "outputs": [],
   "source": [
    "preds_text = []\n",
    "for i in preds:\n",
    "       temp = []\n",
    "       for j in range(len(i)):\n",
    "            t = get_word(i[j], eng_tokenizer)\n",
    "            if j > 0:\n",
    "                if (t == get_word(i[j-1], eng_tokenizer)) or (t == None):\n",
    "                     temp.append('')\n",
    "                else:\n",
    "                     temp.append(t)\n",
    "            else:\n",
    "                   if(t == None):\n",
    "                          temp.append('')\n",
    "                   else:\n",
    "                          temp.append(t) \n",
    "\n",
    "       preds_text.append(' '.join(temp))"
   ]
  },
  {
   "cell_type": "code",
   "execution_count": 0,
   "metadata": {
    "colab": {},
    "colab_type": "code",
    "id": "UCwxvE9CWyED"
   },
   "outputs": [],
   "source": [
    "pred_df = pd.DataFrame({'actual' : test['raw_text'], 'predicted' : preds_text})\n"
   ]
  },
  {
   "cell_type": "markdown",
   "metadata": {},
   "source": [
    "# Actual vs Predicted texts"
   ]
  },
  {
   "cell_type": "code",
   "execution_count": 31,
   "metadata": {
    "colab": {
     "base_uri": "https://localhost:8080/",
     "height": 520
    },
    "colab_type": "code",
    "id": "RvKVupwsWyEG",
    "outputId": "76b8a379-1870-4cc9-c16a-dcfd780a5302"
   },
   "outputs": [
    {
     "data": {
      "text/html": [
       "<div>\n",
       "<style scoped>\n",
       "    .dataframe tbody tr th:only-of-type {\n",
       "        vertical-align: middle;\n",
       "    }\n",
       "\n",
       "    .dataframe tbody tr th {\n",
       "        vertical-align: top;\n",
       "    }\n",
       "\n",
       "    .dataframe thead th {\n",
       "        text-align: right;\n",
       "    }\n",
       "</style>\n",
       "<table border=\"1\" class=\"dataframe\">\n",
       "  <thead>\n",
       "    <tr style=\"text-align: right;\">\n",
       "      <th></th>\n",
       "      <th>actual</th>\n",
       "      <th>predicted</th>\n",
       "    </tr>\n",
       "  </thead>\n",
       "  <tbody>\n",
       "    <tr>\n",
       "      <th>796</th>\n",
       "      <td>The  book makes one feel good and inspired t...</td>\n",
       "      <td>it is  a the                                  ...</td>\n",
       "    </tr>\n",
       "    <tr>\n",
       "      <th>17003</th>\n",
       "      <td>I am left handed  so holding things in my lef...</td>\n",
       "      <td>i   to  the and  the                          ...</td>\n",
       "    </tr>\n",
       "    <tr>\n",
       "      <th>6927</th>\n",
       "      <td>It was very frustrating  as I tried to enunc...</td>\n",
       "      <td>it is a  the    to                            ...</td>\n",
       "    </tr>\n",
       "    <tr>\n",
       "      <th>8922</th>\n",
       "      <td>This bra works fine  but I didn t find it to ...</td>\n",
       "      <td>this is a and   i                             ...</td>\n",
       "    </tr>\n",
       "    <tr>\n",
       "      <th>9775</th>\n",
       "      <td>I am very happy with Amazon Prime delivery</td>\n",
       "      <td>i m this                                      ...</td>\n",
       "    </tr>\n",
       "    <tr>\n",
       "      <th>4200</th>\n",
       "      <td>Thus the story of Jacob joining the circus whe...</td>\n",
       "      <td>the                                           ...</td>\n",
       "    </tr>\n",
       "    <tr>\n",
       "      <th>6965</th>\n",
       "      <td>And  it is FUN to do  I m enjoying it immensely</td>\n",
       "      <td>it was a it i     it                          ...</td>\n",
       "    </tr>\n",
       "    <tr>\n",
       "      <th>15389</th>\n",
       "      <td>It is an ok device but does not truly shine a...</td>\n",
       "      <td>it is a   i             to                    ...</td>\n",
       "    </tr>\n",
       "    <tr>\n",
       "      <th>16525</th>\n",
       "      <td>kindle can t</td>\n",
       "      <td>i you t you                                   ...</td>\n",
       "    </tr>\n",
       "    <tr>\n",
       "      <th>6587</th>\n",
       "      <td>Clear your schedule</td>\n",
       "      <td>the                                           ...</td>\n",
       "    </tr>\n",
       "    <tr>\n",
       "      <th>10004</th>\n",
       "      <td>she is very particular about the length of he...</td>\n",
       "      <td>this is  a                                    ...</td>\n",
       "    </tr>\n",
       "    <tr>\n",
       "      <th>12932</th>\n",
       "      <td>It s Android on the surface but it can t acc...</td>\n",
       "      <td>the  you to   you           the               ...</td>\n",
       "    </tr>\n",
       "    <tr>\n",
       "      <th>14279</th>\n",
       "      <td>Also there is no way to sort your documents ...</td>\n",
       "      <td>the              you     the    you  the      ...</td>\n",
       "    </tr>\n",
       "    <tr>\n",
       "      <th>6291</th>\n",
       "      <td>It held my attention and I couldn t put it down</td>\n",
       "      <td>it was it i        it                         ...</td>\n",
       "    </tr>\n",
       "    <tr>\n",
       "      <th>9037</th>\n",
       "      <td>I had a hard time choosing between the size   ...</td>\n",
       "      <td>i have the                                    ...</td>\n",
       "    </tr>\n",
       "  </tbody>\n",
       "</table>\n",
       "</div>"
      ],
      "text/plain": [
       "                                                  actual                                          predicted\n",
       "796      The  book makes one feel good and inspired t...  it is  a the                                  ...\n",
       "17003   I am left handed  so holding things in my lef...  i   to  the and  the                          ...\n",
       "6927     It was very frustrating  as I tried to enunc...  it is a  the    to                            ...\n",
       "8922    This bra works fine  but I didn t find it to ...  this is a and   i                             ...\n",
       "9775          I am very happy with Amazon Prime delivery  i m this                                      ...\n",
       "4200   Thus the story of Jacob joining the circus whe...  the                                           ...\n",
       "6965    And  it is FUN to do  I m enjoying it immensely   it was a it i     it                          ...\n",
       "15389   It is an ok device but does not truly shine a...  it is a   i             to                    ...\n",
       "16525                                       kindle can t  i you t you                                   ...\n",
       "6587                                 Clear your schedule  the                                           ...\n",
       "10004   she is very particular about the length of he...  this is  a                                    ...\n",
       "12932    It s Android on the surface but it can t acc...  the  you to   you           the               ...\n",
       "14279    Also there is no way to sort your documents ...  the              you     the    you  the      ...\n",
       "6291     It held my attention and I couldn t put it down  it was it i        it                         ...\n",
       "9037   I had a hard time choosing between the size   ...  i have the                                    ..."
      ]
     },
     "execution_count": 31,
     "metadata": {
      "tags": []
     },
     "output_type": "execute_result"
    }
   ],
   "source": [
    "# print 15 rows randomly\n",
    "pred_df.sample(15)"
   ]
  },
  {
   "cell_type": "markdown",
   "metadata": {
    "colab": {},
    "colab_type": "code",
    "id": "AzgAQHM9WyEN"
   },
   "source": [
    "# Conclusion "
   ]
  },
  {
   "cell_type": "raw",
   "metadata": {},
   "source": [
    "The input text containing both english as well as indonesian texts. I assumed the task to be of Machine Translation. So, I have used the encoder decoder model where the input to the model was Indonesian texts which gives output as English texts. LSTM has been used for training the network, since LSTM has the memory and the ability of retaining the context from previous words. The main challenge of the task was the huge corpus, which I have shortened due to the training time required to train the entire network was too high. Hyperparameter tuning still needs to be improved, as the results obtained are not upto expectations. So, the viable step as per my observation, at the current corpus is to play around with the number of epochs,colab crashes if I increase batch size any further. "
   ]
  },
  {
   "cell_type": "code",
   "execution_count": null,
   "metadata": {},
   "outputs": [],
   "source": []
  }
 ],
 "metadata": {
  "accelerator": "GPU",
  "colab": {
   "collapsed_sections": [],
   "name": "sequence2sequence.ipynb",
   "provenance": []
  },
  "kernelspec": {
   "display_name": "Python 3",
   "language": "python",
   "name": "python3"
  },
  "language_info": {
   "codemirror_mode": {
    "name": "ipython",
    "version": 3
   },
   "file_extension": ".py",
   "mimetype": "text/x-python",
   "name": "python",
   "nbconvert_exporter": "python",
   "pygments_lexer": "ipython3",
   "version": "3.7.3"
  }
 },
 "nbformat": 4,
 "nbformat_minor": 1
}
