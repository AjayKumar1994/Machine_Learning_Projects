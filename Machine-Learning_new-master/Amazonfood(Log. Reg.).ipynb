{
 "cells": [
  {
   "cell_type": "code",
   "execution_count": 1,
   "metadata": {},
   "outputs": [
    {
     "name": "stderr",
     "output_type": "stream",
     "text": [
      "/home/joseph/anaconda3/lib/python3.6/site-packages/sklearn/cross_validation.py:41: DeprecationWarning: This module was deprecated in version 0.18 in favor of the model_selection module into which all the refactored classes and functions are moved. Also note that the interface of the new CV iterators are different from that of this module. This module will be removed in 0.20.\n",
      "  \"This module will be removed in 0.20.\", DeprecationWarning)\n"
     ]
    }
   ],
   "source": [
    "# import packages\n",
    "import pandas as pd\n",
    "import numpy as np\n",
    "import matplotlib.pyplot as plt\n",
    "import seaborn as sns\n",
    "import string\n",
    "import sqlite3\n",
    "import re\n",
    "import nltk\n",
    "from nltk.corpus import stopwords\n",
    "from nltk.stem import PorterStemmer\n",
    "from nltk.stem import SnowballStemmer\n",
    "from nltk.stem.wordnet import WordNetLemmatizer\n",
    "from sklearn.metrics import accuracy_score,precision_score,recall_score,confusion_matrix,classification_report,f1_score\n",
    "from sklearn.decomposition import TruncatedSVD\n",
    "from sklearn import cross_validation\n",
    "from sklearn.cross_validation import cross_val_score\n",
    "from sklearn.feature_extraction.text import CountVectorizer\n",
    "from sklearn.feature_extraction.text import TfidfVectorizer\n",
    "import gensim\n",
    "from sklearn.model_selection import train_test_split"
   ]
  },
  {
   "cell_type": "code",
   "execution_count": 2,
   "metadata": {},
   "outputs": [],
   "source": [
    "# creating sql connection string\n",
    "con = sqlite3.connect('database.sqlite')"
   ]
  },
  {
   "cell_type": "code",
   "execution_count": 3,
   "metadata": {},
   "outputs": [],
   "source": [
    "filtered_data = pd.read_sql_query('SELECT * from Reviews WHERE Score != 3',con)"
   ]
  },
  {
   "cell_type": "code",
   "execution_count": 4,
   "metadata": {},
   "outputs": [],
   "source": [
    "actual_scores = filtered_data['Score']\n",
    "positiveNegative = actual_scores.map(lambda x: 'Positive' if x>3 else 'Negative')\n",
    "filtered_data['Score'] = positiveNegative"
   ]
  },
  {
   "cell_type": "code",
   "execution_count": 5,
   "metadata": {},
   "outputs": [],
   "source": [
    "final = filtered_data.drop_duplicates(subset= { 'UserId', 'ProfileName', 'Time',  'Text'})"
   ]
  },
  {
   "cell_type": "code",
   "execution_count": 6,
   "metadata": {},
   "outputs": [
    {
     "name": "stdout",
     "output_type": "stream",
     "text": [
      "Rows dropped :  1616410\n",
      "Percentage Data remaining after dropping duplicates : 69.25890143662969\n"
     ]
    }
   ],
   "source": [
    "print('Rows dropped : ',filtered_data.size - final.size)\n",
    "print('Percentage Data remaining after dropping duplicates :',(((final.size * 1.0)/(filtered_data.size * 1.0) * 100.0)))"
   ]
  },
  {
   "cell_type": "code",
   "execution_count": 7,
   "metadata": {},
   "outputs": [],
   "source": [
    "# Dropping rows where HelpfulnessNumerator < HelpfulnessDenominator\n",
    "final = final[final.HelpfulnessDenominator >= final.HelpfulnessNumerator]"
   ]
  },
  {
   "cell_type": "code",
   "execution_count": 8,
   "metadata": {},
   "outputs": [
    {
     "name": "stdout",
     "output_type": "stream",
     "text": [
      "Number of Rows remaining in the Dataset:  3641710\n"
     ]
    }
   ],
   "source": [
    "print('Number of Rows remaining in the Dataset: ',final.size)"
   ]
  },
  {
   "cell_type": "code",
   "execution_count": 9,
   "metadata": {},
   "outputs": [
    {
     "name": "stdout",
     "output_type": "stream",
     "text": [
      "Positive    41815\n",
      "Negative     8185\n",
      "Name: Score, dtype: int64\n"
     ]
    }
   ],
   "source": [
    "# Data Sampling\n",
    "final = final.iloc[:50000,:]\n",
    "\n",
    "\n",
    "# Checking the number of positive and negative reviews\n",
    "\n",
    "Class_Count  = final['Score'].value_counts()\n",
    "print(final['Score'].value_counts())"
   ]
  },
  {
   "cell_type": "code",
   "execution_count": 10,
   "metadata": {},
   "outputs": [],
   "source": [
    "# Sorting values according to Time for Time Based Slicing\n",
    "final = final.sort_values('Time',kind = 'quicksort')"
   ]
  },
  {
   "cell_type": "code",
   "execution_count": 11,
   "metadata": {},
   "outputs": [],
   "source": [
    "# Function to Remove HTML Tags\n",
    "def cleanhtml(sentence):\n",
    "    cleaner = re.compile('<.*?>')\n",
    "    cleantext = re.sub(cleaner,\"\",sentence)\n",
    "    return cleantext"
   ]
  },
  {
   "cell_type": "code",
   "execution_count": 12,
   "metadata": {},
   "outputs": [],
   "source": [
    "# Function to clean punctuations and special characters\n",
    "\n",
    "def cleanpunct(sentence):\n",
    "    cleaned = re.sub(r'[?|!|\\'|\"|#]',r'',sentence)\n",
    "    cleaned = re.sub(r'[.|,|)|(|\\|/]',r' ',cleaned)\n",
    "    return  cleaned"
   ]
  },
  {
   "cell_type": "code",
   "execution_count": 13,
   "metadata": {},
   "outputs": [],
   "source": [
    "# Initialize Stop words and PorterStemmer and Lemmetizer\n",
    "stop = set(stopwords.words('english'))\n",
    "sno = SnowballStemmer('english')"
   ]
  },
  {
   "cell_type": "code",
   "execution_count": 14,
   "metadata": {},
   "outputs": [],
   "source": [
    "#Code for implementing step-by-step the checks mentioned in the pre-processing phase\n",
    "# this code takes a while to run as it needs to run on 500k sentences.\n",
    "i=0\n",
    "str1=' '\n",
    "final_string=[]\n",
    "all_positive_words=[] # store words from +ve reviews here\n",
    "all_negative_words=[] # store words from -ve reviews here.\n",
    "s=''\n",
    "for sent in final['Text'].values:\n",
    "    filtered_sentence=[]\n",
    "    #print(sent);\n",
    "    sent=cleanhtml(sent) # remove HTMl tags\n",
    "    for w in sent.split():\n",
    "        for cleaned_words in cleanpunct(w).split():\n",
    "            if((cleaned_words.isalpha()) & (len(cleaned_words)>2)):    \n",
    "                if(cleaned_words.lower() not in stop):\n",
    "                    s=(sno.stem(cleaned_words.lower())).encode('utf8')\n",
    "                    filtered_sentence.append(s)\n",
    "                    if (final['Score'].values)[i] == 'positive': \n",
    "                        all_positive_words.append(s) #list of all words used to describe positive reviews\n",
    "                    if(final['Score'].values)[i] == 'negative':\n",
    "                        all_negative_words.append(s) #list of all words used to describe negative reviews reviews\n",
    "                else:\n",
    "                    continue\n",
    "            else:\n",
    "                continue \n",
    "    #print(filtered_sentence)\n",
    "    str1 = b\" \".join(filtered_sentence) #final string of cleaned words\n",
    "    #print(\"***********************************************************************\")\n",
    "    \n",
    "    final_string.append(str1)\n",
    "    i+=1"
   ]
  },
  {
   "cell_type": "code",
   "execution_count": 15,
   "metadata": {},
   "outputs": [
    {
     "data": {
      "text/html": [
       "<div>\n",
       "<style scoped>\n",
       "    .dataframe tbody tr th:only-of-type {\n",
       "        vertical-align: middle;\n",
       "    }\n",
       "\n",
       "    .dataframe tbody tr th {\n",
       "        vertical-align: top;\n",
       "    }\n",
       "\n",
       "    .dataframe thead th {\n",
       "        text-align: right;\n",
       "    }\n",
       "</style>\n",
       "<table border=\"1\" class=\"dataframe\">\n",
       "  <thead>\n",
       "    <tr style=\"text-align: right;\">\n",
       "      <th></th>\n",
       "      <th>Id</th>\n",
       "      <th>ProductId</th>\n",
       "      <th>UserId</th>\n",
       "      <th>ProfileName</th>\n",
       "      <th>HelpfulnessNumerator</th>\n",
       "      <th>HelpfulnessDenominator</th>\n",
       "      <th>Score</th>\n",
       "      <th>Time</th>\n",
       "      <th>Summary</th>\n",
       "      <th>Text</th>\n",
       "      <th>CleanedText</th>\n",
       "    </tr>\n",
       "  </thead>\n",
       "  <tbody>\n",
       "    <tr>\n",
       "      <th>1146</th>\n",
       "      <td>1245</td>\n",
       "      <td>B00002Z754</td>\n",
       "      <td>A29Z5PI9BW2PU3</td>\n",
       "      <td>Robbie</td>\n",
       "      <td>7</td>\n",
       "      <td>7</td>\n",
       "      <td>Positive</td>\n",
       "      <td>961718400</td>\n",
       "      <td>Great Product</td>\n",
       "      <td>This was a really good idea and the final prod...</td>\n",
       "      <td>b'realli good idea final product outstand use ...</td>\n",
       "    </tr>\n",
       "    <tr>\n",
       "      <th>1145</th>\n",
       "      <td>1244</td>\n",
       "      <td>B00002Z754</td>\n",
       "      <td>A3B8RCEI0FXFI6</td>\n",
       "      <td>B G Chase</td>\n",
       "      <td>10</td>\n",
       "      <td>10</td>\n",
       "      <td>Positive</td>\n",
       "      <td>962236800</td>\n",
       "      <td>WOW Make your own 'slickers' !</td>\n",
       "      <td>I just received my shipment and could hardly w...</td>\n",
       "      <td>b'receiv shipment could hard wait tri product ...</td>\n",
       "    </tr>\n",
       "    <tr>\n",
       "      <th>28087</th>\n",
       "      <td>30630</td>\n",
       "      <td>B00008RCMI</td>\n",
       "      <td>A284C7M23F0APC</td>\n",
       "      <td>A. Mendoza</td>\n",
       "      <td>0</td>\n",
       "      <td>0</td>\n",
       "      <td>Positive</td>\n",
       "      <td>1067040000</td>\n",
       "      <td>Best sugarless gum ever!</td>\n",
       "      <td>I love this stuff. It is sugar-free so it does...</td>\n",
       "      <td>b'love stuff doesnt rot gum tast good go buy g...</td>\n",
       "    </tr>\n",
       "    <tr>\n",
       "      <th>28086</th>\n",
       "      <td>30629</td>\n",
       "      <td>B00008RCMI</td>\n",
       "      <td>A19E94CF5O1LY7</td>\n",
       "      <td>Andrew Arnold</td>\n",
       "      <td>0</td>\n",
       "      <td>0</td>\n",
       "      <td>Positive</td>\n",
       "      <td>1067040000</td>\n",
       "      <td>I've chewed this gum many times, but used?</td>\n",
       "      <td>Nothing against the product, but it does bothe...</td>\n",
       "      <td>b'noth product bother link top page buy use ch...</td>\n",
       "    </tr>\n",
       "    <tr>\n",
       "      <th>38740</th>\n",
       "      <td>42069</td>\n",
       "      <td>B0000EIEQU</td>\n",
       "      <td>A1YMJX4YWCE6P4</td>\n",
       "      <td>Jim Carson \"http://www.jimcarson.com\"</td>\n",
       "      <td>12</td>\n",
       "      <td>12</td>\n",
       "      <td>Positive</td>\n",
       "      <td>1067558400</td>\n",
       "      <td>These limes rule!</td>\n",
       "      <td>Fresh limes are underappreciated, but a joy to...</td>\n",
       "      <td>b'fresh lime underappreci joy kitchen squirt l...</td>\n",
       "    </tr>\n",
       "  </tbody>\n",
       "</table>\n",
       "</div>"
      ],
      "text/plain": [
       "          Id   ProductId          UserId  \\\n",
       "1146    1245  B00002Z754  A29Z5PI9BW2PU3   \n",
       "1145    1244  B00002Z754  A3B8RCEI0FXFI6   \n",
       "28087  30630  B00008RCMI  A284C7M23F0APC   \n",
       "28086  30629  B00008RCMI  A19E94CF5O1LY7   \n",
       "38740  42069  B0000EIEQU  A1YMJX4YWCE6P4   \n",
       "\n",
       "                                 ProfileName  HelpfulnessNumerator  \\\n",
       "1146                                  Robbie                     7   \n",
       "1145                               B G Chase                    10   \n",
       "28087                             A. Mendoza                     0   \n",
       "28086                          Andrew Arnold                     0   \n",
       "38740  Jim Carson \"http://www.jimcarson.com\"                    12   \n",
       "\n",
       "       HelpfulnessDenominator     Score        Time  \\\n",
       "1146                        7  Positive   961718400   \n",
       "1145                       10  Positive   962236800   \n",
       "28087                       0  Positive  1067040000   \n",
       "28086                       0  Positive  1067040000   \n",
       "38740                      12  Positive  1067558400   \n",
       "\n",
       "                                          Summary  \\\n",
       "1146                                Great Product   \n",
       "1145               WOW Make your own 'slickers' !   \n",
       "28087                    Best sugarless gum ever!   \n",
       "28086  I've chewed this gum many times, but used?   \n",
       "38740                           These limes rule!   \n",
       "\n",
       "                                                    Text  \\\n",
       "1146   This was a really good idea and the final prod...   \n",
       "1145   I just received my shipment and could hardly w...   \n",
       "28087  I love this stuff. It is sugar-free so it does...   \n",
       "28086  Nothing against the product, but it does bothe...   \n",
       "38740  Fresh limes are underappreciated, but a joy to...   \n",
       "\n",
       "                                             CleanedText  \n",
       "1146   b'realli good idea final product outstand use ...  \n",
       "1145   b'receiv shipment could hard wait tri product ...  \n",
       "28087  b'love stuff doesnt rot gum tast good go buy g...  \n",
       "28086  b'noth product bother link top page buy use ch...  \n",
       "38740  b'fresh lime underappreci joy kitchen squirt l...  "
      ]
     },
     "execution_count": 15,
     "metadata": {},
     "output_type": "execute_result"
    }
   ],
   "source": [
    "final['CleanedText']=final_string #adding a column of CleanedText which displays the data after pre-processing of the review\n",
    "final.head()\n"
   ]
  },
  {
   "cell_type": "markdown",
   "metadata": {},
   "source": [
    "# BOW"
   ]
  },
  {
   "cell_type": "code",
   "execution_count": 16,
   "metadata": {},
   "outputs": [
    {
     "name": "stdout",
     "output_type": "stream",
     "text": [
      "Train Data Size:  (35000, 25048)\n",
      "Test Data Size:  (15000, 25048)\n"
     ]
    }
   ],
   "source": [
    "from sklearn.feature_extraction.text import CountVectorizer\n",
    "from sklearn.model_selection import train_test_split\n",
    "from sklearn import preprocessing\n",
    "\n",
    "#Breaking into Train and test\n",
    "X_train, X_test, y_train, y_test = train_test_split(final['CleanedText'].values,final['Score'].values,test_size=0.3,shuffle=False)\n",
    "\n",
    "#Text -> Uni gram Vectors\n",
    "uni_gram = CountVectorizer() \n",
    "X_train = uni_gram.fit_transform(X_train)\n",
    "#Normalize Data\n",
    "X_train = preprocessing.normalize(X_train)\n",
    "print(\"Train Data Size: \",X_train.shape)\n",
    "X_test = uni_gram.transform(X_test)\n",
    "#Normalize Data\n",
    "X_test = preprocessing.normalize(X_test)\n",
    "print(\"Test Data Size: \",X_test.shape)"
   ]
  },
  {
   "cell_type": "code",
   "execution_count": 17,
   "metadata": {},
   "outputs": [
    {
     "name": "stdout",
     "output_type": "stream",
     "text": [
      "CPU times: user 4 µs, sys: 1e+03 ns, total: 5 µs\n",
      "Wall time: 8.11 µs\n",
      "Fitting 3 folds for each of 14 candidates, totalling 42 fits\n"
     ]
    },
    {
     "name": "stderr",
     "output_type": "stream",
     "text": [
      "[Parallel(n_jobs=1)]: Done  42 out of  42 | elapsed:   31.0s finished\n"
     ]
    },
    {
     "name": "stdout",
     "output_type": "stream",
     "text": [
      "Best C: 10\n",
      "Best Accuracy: 91.21%\n"
     ]
    }
   ],
   "source": [
    "\n",
    "%time\n",
    "from sklearn.model_selection import GridSearchCV\n",
    "from sklearn.linear_model import LogisticRegression\n",
    "\n",
    "clf = LogisticRegression()\n",
    "\n",
    "param_grid = {'C': [0.001, 0.01, 0.1, 1, 10, 100, 1000], 'penalty':['l1','l2'] }\n",
    "\n",
    "sol = GridSearchCV(clf,param_grid,verbose=1)\n",
    "\n",
    "sol.fit(X_train,y_train)\n",
    "\n",
    "print('Best C:', sol.best_estimator_.get_params()['C'])\n",
    "print(\"Best Accuracy: %.2f%%\"%(sol.best_score_*100))\n"
   ]
  },
  {
   "cell_type": "code",
   "execution_count": 19,
   "metadata": {},
   "outputs": [],
   "source": [
    "\n",
    "def plot_error_vs_c(type):\n",
    "    x1=[]\n",
    "    y1=[]\n",
    "    x2=[]\n",
    "    y2=[]\n",
    "    \n",
    "    for a in sol.grid_scores_:\n",
    "        if (a[0]['penalty']) == 'l1':\n",
    "            y1.append(1 - a[1])\n",
    "            x1.append(a[0]['C'])\n",
    "            \n",
    "        else:\n",
    "            y2.append(1 - a[1])\n",
    "            x2.append(a[0]['C'])\n",
    "    plt.xlim(-10,1010)\n",
    "    plt.ylim(0,0.2)\n",
    "    plt.xlabel(\"C\",fontsize=15)\n",
    "    plt.ylabel(\"Misclassification Error\")\n",
    "    plt.title('Misclassification Error v/s C')\n",
    "    plt.plot(x1,y1,'b',label=\"L1\")\n",
    "    plt.plot(x2,y2,'r',label=\"L2\")\n",
    "    plt.legend()\n",
    "    plt.show()\n",
    "#plot_error_vs_c(sol)"
   ]
  },
  {
   "cell_type": "code",
   "execution_count": 20,
   "metadata": {},
   "outputs": [
    {
     "name": "stderr",
     "output_type": "stream",
     "text": [
      "/home/joseph/anaconda3/lib/python3.6/site-packages/sklearn/model_selection/_search.py:761: DeprecationWarning: The grid_scores_ attribute was deprecated in version 0.18 in favor of the more elaborate cv_results_ attribute. The grid_scores_ attribute will not be available from 0.20\n",
      "  DeprecationWarning)\n"
     ]
    },
    {
     "data": {
      "image/png": "[encoded data removed]",
      "text/plain": [
       "<matplotlib.figure.Figure at 0x7f9685885940>"
      ]
     },
     "metadata": {},
     "output_type": "display_data"
    }
   ],
   "source": [
    "\n",
    "plot_error_vs_c(sol)"
   ]
  },
  {
   "cell_type": "code",
   "execution_count": 21,
   "metadata": {},
   "outputs": [
    {
     "name": "stdout",
     "output_type": "stream",
     "text": [
      "Accuracy on test set: 90.87\n",
      "Precision on test set: 86.8\n",
      "Recall on test set: 80.58\n",
      "F1-Score on test set:  83.19\n",
      "Non Zero weights: 25048\n"
     ]
    },
    {
     "data": {
      "text/plain": [
       "Text(0.5,15,'Predicted label')"
      ]
     },
     "execution_count": 21,
     "metadata": {},
     "output_type": "execute_result"
    },
    {
     "data": {
      "image/png": "[encoded data removed]",
      "text/plain": [
       "<matplotlib.figure.Figure at 0x7f96878c3748>"
      ]
     },
     "metadata": {},
     "output_type": "display_data"
    }
   ],
   "source": [
    "#Testing Accuracy on Test data\n",
    "import numpy as np\n",
    "from sklearn.linear_model import LogisticRegression\n",
    "\n",
    "clf = LogisticRegression(C= 10, penalty= 'l2')\n",
    "clf.fit(X_train,y_train)\n",
    "y_pred = clf.predict(X_test)\n",
    "\n",
    "print(\"Accuracy on test set:\",np.round((accuracy_score(y_test, y_pred)*100),decimals = 2))\n",
    "print(\"Precision on test set:\",np.round((precision_score(y_test, y_pred,average= 'macro')*100),decimals = 2))\n",
    "print(\"Recall on test set:\",np.round((recall_score(y_test, y_pred,average= 'macro')*100),decimals = 2))\n",
    "print(\"F1-Score on test set: \",np.round((f1_score(y_test, y_pred,average= 'macro')*100),decimals = 2))\n",
    "print(\"Non Zero weights:\",np.count_nonzero(clf.coef_))\n",
    "\n",
    "plt.figure()\n",
    "confusion_matrix_Plot = confusion_matrix(y_test,y_pred)\n",
    "heatmap = sns.heatmap(confusion_matrix_Plot, annot=True, fmt=\"d\")\n",
    "heatmap.yaxis.set_ticklabels(heatmap.yaxis.get_ticklabels(), rotation=0, ha='right')\n",
    "heatmap.xaxis.set_ticklabels(heatmap.xaxis.get_ticklabels(), rotation=45, ha='right')\n",
    "plt.ylabel('True label')\n",
    "plt.xlabel('Predicted label')\n"
   ]
  },
  {
   "cell_type": "markdown",
   "metadata": {},
   "source": [
    "# sparsity increases as we increase lambda or decrease C"
   ]
  },
  {
   "cell_type": "code",
   "execution_count": 22,
   "metadata": {},
   "outputs": [
    {
     "name": "stdout",
     "output_type": "stream",
     "text": [
      "Accuracy on test set: 85.59\n",
      "F1-Score on test set:  76.35\n",
      "Non Zero weights: 6878\n"
     ]
    }
   ],
   "source": [
    "from sklearn.linear_model import LogisticRegression\n",
    "\n",
    "clf = LogisticRegression(C= 1000, penalty= 'l1')\n",
    "clf.fit(X_train,y_train)\n",
    "y_pred = clf.predict(X_test)\n",
    "print(\"Accuracy on test set:\",np.round((accuracy_score(y_test, y_pred)*100),decimals = 2))\n",
    "print(\"F1-Score on test set: \",np.round((f1_score(y_test, y_pred,average= 'macro')*100),decimals = 2))\n",
    "print(\"Non Zero weights:\",np.count_nonzero(clf.coef_))"
   ]
  },
  {
   "cell_type": "code",
   "execution_count": 23,
   "metadata": {},
   "outputs": [
    {
     "name": "stdout",
     "output_type": "stream",
     "text": [
      "Accuracy on test set: 87.49\n",
      "F1-Score on test set:  78.65\n",
      "Non Zero weights: 6350\n"
     ]
    }
   ],
   "source": [
    "from sklearn.linear_model import LogisticRegression\n",
    "\n",
    "clf = LogisticRegression(C= 100, penalty= 'l1')\n",
    "clf.fit(X_train,y_train)\n",
    "y_pred = clf.predict(X_test)\n",
    "print(\"Accuracy on test set:\",np.round((accuracy_score(y_test, y_pred)*100),decimals = 2))\n",
    "print(\"F1-Score on test set: \",np.round((f1_score(y_test, y_pred,average= 'macro')*100),decimals = 2))\n",
    "print(\"Non Zero weights:\",np.count_nonzero(clf.coef_))"
   ]
  },
  {
   "cell_type": "code",
   "execution_count": 24,
   "metadata": {},
   "outputs": [
    {
     "name": "stdout",
     "output_type": "stream",
     "text": [
      "Accuracy on test set: 90.41\n",
      "F1-Score on test set:  82.89\n",
      "Non Zero weights: 3543\n"
     ]
    }
   ],
   "source": [
    "from sklearn.linear_model import LogisticRegression\n",
    "\n",
    "clf = LogisticRegression(C= 10, penalty= 'l1')\n",
    "clf.fit(X_train,y_train)\n",
    "y_pred = clf.predict(X_test)\n",
    "print(\"Accuracy on test set:\",np.round((accuracy_score(y_test, y_pred)*100),decimals = 2))\n",
    "print(\"F1-Score on test set: \",np.round((f1_score(y_test, y_pred,average= 'macro')*100),decimals = 2))\n",
    "print(\"Non Zero weights:\",np.count_nonzero(clf.coef_))"
   ]
  },
  {
   "cell_type": "markdown",
   "metadata": {},
   "source": [
    "# Randomized search"
   ]
  },
  {
   "cell_type": "code",
   "execution_count": 25,
   "metadata": {},
   "outputs": [
    {
     "name": "stdout",
     "output_type": "stream",
     "text": [
      "CPU times: user 3 µs, sys: 0 ns, total: 3 µs\n",
      "Wall time: 5.48 µs\n",
      "Fitting 3 folds for each of 10 candidates, totalling 30 fits\n"
     ]
    },
    {
     "name": "stderr",
     "output_type": "stream",
     "text": [
      "[Parallel(n_jobs=1)]: Done  30 out of  30 | elapsed:   17.9s finished\n"
     ]
    },
    {
     "name": "stdout",
     "output_type": "stream",
     "text": [
      "Best HyperParameter:  {'penalty': 'l1', 'C': 5}\n",
      "Best Accuracy: 91.05%\n"
     ]
    }
   ],
   "source": [
    "%time\n",
    "from sklearn.model_selection import RandomizedSearchCV\n",
    "from sklearn.linear_model import LogisticRegression\n",
    "\n",
    "clf = LogisticRegression()\n",
    "\n",
    "#params we need to try on classifier\n",
    "param_grid = { 'C':[1000,500,100,50,10,5,1,0.5,0.1,0.05,0.01,0.005,0.001,0.0005,0.0001],\n",
    "              'penalty':['l1','l2']}\n",
    "\n",
    "sol1 = RandomizedSearchCV(clf,param_grid,verbose=1)\n",
    "sol1.fit(X_train,y_train)\n",
    "\n",
    "print(\"Best HyperParameter: \",sol1.best_params_)\n",
    "print(\"Best Accuracy: %.2f%%\"%(sol1.best_score_*100))"
   ]
  },
  {
   "cell_type": "code",
   "execution_count": 26,
   "metadata": {},
   "outputs": [
    {
     "name": "stdout",
     "output_type": "stream",
     "text": [
      "Accuracy on test set: 90.94\n",
      "Precision on test set: 87.46\n",
      "Recall on test set: 80.09\n",
      "F1-Score on test set:  83.09\n",
      "Non Zero weights: 25048\n"
     ]
    },
    {
     "data": {
      "text/plain": [
       "Text(0.5,15,'Predicted label')"
      ]
     },
     "execution_count": 26,
     "metadata": {},
     "output_type": "execute_result"
    },
    {
     "data": {
      "image/png": "[encoded data removed]",
      "text/plain": [
       "<matplotlib.figure.Figure at 0x7f96878c3828>"
      ]
     },
     "metadata": {},
     "output_type": "display_data"
    }
   ],
   "source": [
    "#Testing Accuracy on Test data\n",
    "from sklearn.linear_model import LogisticRegression\n",
    "\n",
    "clf = LogisticRegression(C= 5, penalty= 'l2')\n",
    "clf.fit(X_train,y_train)\n",
    "y_pred = clf.predict(X_test)\n",
    "\n",
    "print(\"Accuracy on test set:\",np.round((accuracy_score(y_test, y_pred)*100),decimals = 2))\n",
    "print(\"Precision on test set:\",np.round((precision_score(y_test, y_pred,average= 'macro')*100),decimals = 2))\n",
    "print(\"Recall on test set:\",np.round((recall_score(y_test, y_pred,average= 'macro')*100),decimals = 2))\n",
    "print(\"F1-Score on test set: \",np.round((f1_score(y_test, y_pred,average= 'macro')*100),decimals = 2))\n",
    "print(\"Non Zero weights:\",np.count_nonzero(clf.coef_))\n",
    "\n",
    "plt.figure()\n",
    "confusion_matrix_Plot = confusion_matrix(y_test,y_pred)\n",
    "heatmap = sns.heatmap(confusion_matrix_Plot, annot=True, fmt=\"d\")\n",
    "heatmap.yaxis.set_ticklabels(heatmap.yaxis.get_ticklabels(), rotation=0, ha='right')\n",
    "heatmap.xaxis.set_ticklabels(heatmap.xaxis.get_ticklabels(), rotation=45, ha='right')\n",
    "plt.ylabel('True label')\n",
    "plt.xlabel('Predicted label')\n",
    "\n",
    "\n"
   ]
  },
  {
   "cell_type": "code",
   "execution_count": 27,
   "metadata": {},
   "outputs": [],
   "source": [
    "def plot_error_vs_c(sol1):\n",
    "    x1=[]\n",
    "    y1=[]\n",
    "    x2=[]\n",
    "    y2=[]\n",
    "    \n",
    "    for a in sol1.grid_scores_:\n",
    "        if (a[0]['penalty']) == 'l1':\n",
    "            y1.append(1 - a[1])\n",
    "            x1.append(a[0]['C'])\n",
    "            \n",
    "        else:\n",
    "            y2.append(1 - a[1])\n",
    "            x2.append(a[0]['C'])\n",
    "    plt.xlim(-10,1010)\n",
    "    plt.ylim(0,0.2)\n",
    "    plt.xlabel(\"C\",fontsize=15)\n",
    "    plt.ylabel(\"Misclassification Error\")\n",
    "    plt.title('Misclassification Error v/s C')\n",
    "    plt.plot(x1,y1,'b',label=\"L1\")\n",
    "    plt.plot(x2,y2,'r',label=\"L2\")\n",
    "    plt.legend()\n",
    "    plt.show()"
   ]
  },
  {
   "cell_type": "code",
   "execution_count": 28,
   "metadata": {
    "scrolled": true
   },
   "outputs": [
    {
     "name": "stderr",
     "output_type": "stream",
     "text": [
      "/home/joseph/anaconda3/lib/python3.6/site-packages/sklearn/model_selection/_search.py:761: DeprecationWarning: The grid_scores_ attribute was deprecated in version 0.18 in favor of the more elaborate cv_results_ attribute. The grid_scores_ attribute will not be available from 0.20\n",
      "  DeprecationWarning)\n"
     ]
    },
    {
     "data": {
      "image/png": "[encoded data removed]",
      "text/plain": [
       "<matplotlib.figure.Figure at 0x7f968366bcc0>"
      ]
     },
     "metadata": {},
     "output_type": "display_data"
    }
   ],
   "source": [
    "\n",
    "plot_error_vs_c(sol1)"
   ]
  },
  {
   "cell_type": "markdown",
   "metadata": {},
   "source": [
    "# Perturbation test"
   ]
  },
  {
   "cell_type": "code",
   "execution_count": 29,
   "metadata": {},
   "outputs": [
    {
     "name": "stdout",
     "output_type": "stream",
     "text": [
      "Accuracy on test set: 90.94\n",
      "Non zero weights: 25048\n"
     ]
    }
   ],
   "source": [
    "\n",
    "\n",
    "clf = LogisticRegression(C = 10, penalty = 'l2')\n",
    "\n",
    "clf.fit(X_train, y_train)\n",
    "\n",
    "print(\"Accuracy on test set:\",np.round((accuracy_score(y_test, y_pred)*100),decimals = 2))\n",
    "print(\"Non zero weights:\" , np.count_nonzero(clf.coef_))\n",
    "\n"
   ]
  },
  {
   "cell_type": "code",
   "execution_count": 30,
   "metadata": {},
   "outputs": [
    {
     "name": "stdout",
     "output_type": "stream",
     "text": [
      "[0.00082506 0.01594252 0.01594252 ... 0.02158355 0.14265074 0.0321364 ]\n"
     ]
    }
   ],
   "source": [
    "from scipy.sparse import find\n",
    "\n",
    "#weights before adding random noise\n",
    "\n",
    "weights1 = find(clf.coef_)[2]\n",
    "\n",
    "print(weights1)"
   ]
  },
  {
   "cell_type": "code",
   "execution_count": 31,
   "metadata": {},
   "outputs": [
    {
     "name": "stdout",
     "output_type": "stream",
     "text": [
      "<class 'scipy.sparse.csr.csr_matrix'>\n"
     ]
    }
   ],
   "source": [
    "\n",
    "X_train_1 = X_train\n",
    "\n",
    "epsilon = np.random.uniform(low = -0.0001, high = 0.0001, size = (find(X_train_1)[0].size,))\n",
    "\n",
    "print(type(X_train_1))\n",
    "\n",
    "# positions(row,cloumn) and value of non-zero datapoints\n",
    "a,b,c = find(X_train_1)\n",
    "\n",
    "\n",
    "X_train_1[a,b] = epsilon + X_train_1[a,b] \n",
    "\n",
    "\n"
   ]
  },
  {
   "cell_type": "code",
   "execution_count": 32,
   "metadata": {},
   "outputs": [
    {
     "name": "stdout",
     "output_type": "stream",
     "text": [
      "Accuracy on test set: 90.94\n",
      "Non zero weights: 25048\n"
     ]
    }
   ],
   "source": [
    "# Traininig with random noise\n",
    "\n",
    "clf = LogisticRegression(C = 10, penalty = 'l2')\n",
    "\n",
    "clf.fit(X_train, y_train)\n",
    "\n",
    "print(\"Accuracy on test set:\",np.round((accuracy_score(y_test, y_pred)*100),decimals = 2))\n",
    "print(\"Non zero weights:\" , np.count_nonzero(clf.coef_))"
   ]
  },
  {
   "cell_type": "code",
   "execution_count": 33,
   "metadata": {},
   "outputs": [
    {
     "name": "stdout",
     "output_type": "stream",
     "text": [
      "[0.00081522 0.01587308 0.01587505 ... 0.02141253 0.14299171 0.03219629]\n"
     ]
    }
   ],
   "source": [
    "from scipy.sparse import find\n",
    "\n",
    "#weights before adding random noise\n",
    "\n",
    "weights2 = find(clf.coef_)[2]\n",
    "\n",
    "print(weights2)"
   ]
  },
  {
   "cell_type": "code",
   "execution_count": 34,
   "metadata": {},
   "outputs": [],
   "source": [
    "weights_diff = (abs(weights1 - weights2)/weights1)*100"
   ]
  },
  {
   "cell_type": "code",
   "execution_count": 35,
   "metadata": {},
   "outputs": [
    {
     "name": "stdout",
     "output_type": "stream",
     "text": [
      "9\n"
     ]
    }
   ],
   "source": [
    "print(weights_diff[np.where(weights_diff > 30)].size)"
   ]
  },
  {
   "cell_type": "markdown",
   "metadata": {},
   "source": [
    "2 features are multicolinear"
   ]
  },
  {
   "cell_type": "code",
   "execution_count": 36,
   "metadata": {},
   "outputs": [
    {
     "name": "stdout",
     "output_type": "stream",
     "text": [
      "\t\t\tPositive\t\t\t\t\t\tNegative\n",
      "________________________________________________________________________________________________\n",
      "\t-13.8827\tworst          \t\t\t\t9.8597\tperfect        \n",
      "\t-10.0878\tterribl        \t\t\t\t9.6304\tdelici         \n",
      "\t-9.4728\tbland          \t\t\t\t9.2832\tamaz           \n",
      "\t-9.4019\taw             \t\t\t\t8.7039\texcel          \n",
      "\t-9.2288\tdisappoint     \t\t\t\t8.3004\tworri          \n",
      "\t-8.7619\treturn         \t\t\t\t7.8243\tyummi          \n",
      "\t-8.5215\tthrew          \t\t\t\t7.5773\tglad           \n",
      "\t-8.2068\tcancel         \t\t\t\t7.3243\tfantast        \n",
      "\t-8.0147\ttrash          \t\t\t\t7.2958\tbest           \n",
      "\t-7.7787\tshame          \t\t\t\t7.2493\tawesom         \n",
      "\t-7.7036\thorribl        \t\t\t\t7.1710\tsatisfi        \n",
      "\t-7.6648\tdisgust        \t\t\t\t7.0349\tsmooth         \n",
      "\t-7.2374\tunfortun       \t\t\t\t6.8765\tgreat          \n",
      "\t-7.0978\tweak           \t\t\t\t6.7810\taddict         \n",
      "\t-7.0055\tyuck           \t\t\t\t6.6629\tnice           \n",
      "\t-6.8512\tflat           \t\t\t\t6.6524\tskeptic        \n",
      "\t-6.7647\tdie            \t\t\t\t6.5886\tthank          \n",
      "\t-6.6031\trefund         \t\t\t\t6.5798\tbeat           \n",
      "\t-6.4335\tsorri          \t\t\t\t6.1564\thook           \n",
      "\t-6.4027\tflavorless     \t\t\t\t5.8669\tcrave          \n",
      "\t-6.2692\trip            \t\t\t\t5.6715\toutstand       \n",
      "\t-6.2688\tpoor           \t\t\t\t5.6703\tfavorit        \n",
      "\t-6.2001\tbare           \t\t\t\t5.5879\theaven         \n",
      "\t-6.1811\tunpleas        \t\t\t\t5.5221\tbeauti         \n",
      "\t-6.1596\tvomit          \t\t\t\t5.4569\tterrif         \n"
     ]
    }
   ],
   "source": [
    "def show_most_informative_features(vectorizer, clf, n=25):\n",
    "    feature_names = vectorizer.get_feature_names()\n",
    "    coefs_with_fns = sorted(zip(clf.coef_[0], feature_names))\n",
    "    top = zip(coefs_with_fns[:n], coefs_with_fns[:-(n + 1):-1])\n",
    "    print(\"\\t\\t\\tPositive\\t\\t\\t\\t\\t\\tNegative\")\n",
    "    print(\"________________________________________________________________________________________________\")\n",
    "    for (coef_1, fn_1), (coef_2, fn_2) in top:\n",
    "        print(\"\\t%.4f\\t%-15s\\t\\t\\t\\t%.4f\\t%-15s\" % (coef_1, fn_1, coef_2, fn_2))\n",
    "        \n",
    "show_most_informative_features(uni_gram,clf)"
   ]
  },
  {
   "cell_type": "markdown",
   "metadata": {},
   "source": [
    "# tf-idf"
   ]
  },
  {
   "cell_type": "code",
   "execution_count": 37,
   "metadata": {},
   "outputs": [
    {
     "name": "stdout",
     "output_type": "stream",
     "text": [
      "Train Data Size:  (35000, 589268)\n",
      "Test Data Size:  (15000, 589268)\n"
     ]
    }
   ],
   "source": [
    "from sklearn.feature_extraction.text import CountVectorizer\n",
    "from sklearn.model_selection import train_test_split\n",
    "from sklearn import preprocessing\n",
    "\n",
    "#Breaking into Train and test\n",
    "X_train, X_test, y_train, y_test = train_test_split(final['CleanedText'].values,final['Score'].values,test_size=0.3,shuffle=False)\n",
    "\n",
    "#Text -> Uni gram Vectors\n",
    "tfidf = TfidfVectorizer(ngram_range=(1,2)) \n",
    "X_train = tfidf.fit_transform(X_train)\n",
    "#Normalize Data\n",
    "X_train = preprocessing.normalize(X_train)\n",
    "print(\"Train Data Size: \",X_train.shape)\n",
    "X_test = tfidf.transform(X_test)\n",
    "#Normalize Data\n",
    "X_test = preprocessing.normalize(X_test)\n",
    "print(\"Test Data Size: \",X_test.shape)"
   ]
  },
  {
   "cell_type": "code",
   "execution_count": 38,
   "metadata": {},
   "outputs": [
    {
     "name": "stdout",
     "output_type": "stream",
     "text": [
      "CPU times: user 3 µs, sys: 0 ns, total: 3 µs\n",
      "Wall time: 5.96 µs\n",
      "Fitting 3 folds for each of 14 candidates, totalling 42 fits\n"
     ]
    },
    {
     "name": "stderr",
     "output_type": "stream",
     "text": [
      "[Parallel(n_jobs=1)]: Done  42 out of  42 | elapsed:  1.0min finished\n"
     ]
    },
    {
     "name": "stdout",
     "output_type": "stream",
     "text": [
      "Best C: 1000\n",
      "Best Accuracy: 91.47%\n"
     ]
    }
   ],
   "source": [
    "\n",
    "%time\n",
    "from sklearn.model_selection import GridSearchCV\n",
    "from sklearn.linear_model import LogisticRegression\n",
    "\n",
    "clf = LogisticRegression()\n",
    "\n",
    "param_grid = {'C': [0.001, 0.01, 0.1, 1, 10, 100, 1000], 'penalty':['l1','l2'] }\n",
    "\n",
    "sol_tfidf = GridSearchCV(clf,param_grid,verbose=1)\n",
    "\n",
    "sol_tfidf.fit(X_train,y_train)\n",
    "\n",
    "print('Best C:', sol_tfidf.best_estimator_.get_params()['C'])\n",
    "print(\"Best Accuracy: %.2f%%\"%(sol_tfidf.best_score_*100))"
   ]
  },
  {
   "cell_type": "code",
   "execution_count": 40,
   "metadata": {},
   "outputs": [],
   "source": [
    "def plot_error_vs_c(type):\n",
    "    x1=[]\n",
    "    y1=[]\n",
    "    x2=[]\n",
    "    y2=[]\n",
    "    \n",
    "    for a in sol_tfidf.grid_scores_:\n",
    "        if (a[0]['penalty']) == 'l1':\n",
    "            y1.append(1 - a[1])\n",
    "            x1.append(a[0]['C'])\n",
    "            \n",
    "        else:\n",
    "            y2.append(1 - a[1])\n",
    "            x2.append(a[0]['C'])\n",
    "    plt.xlim(-10,1010)\n",
    "    plt.ylim(0,0.2)\n",
    "    plt.xlabel(\"C\",fontsize=15)\n",
    "    plt.ylabel(\"Misclassification Error\")\n",
    "    plt.title('Misclassification Error v/s C')\n",
    "    plt.plot(x1,y1,'b',label=\"L1\")\n",
    "    plt.plot(x2,y2,'r',label=\"L2\")\n",
    "    plt.legend()\n",
    "    plt.show()"
   ]
  },
  {
   "cell_type": "code",
   "execution_count": 41,
   "metadata": {},
   "outputs": [
    {
     "name": "stderr",
     "output_type": "stream",
     "text": [
      "/home/joseph/anaconda3/lib/python3.6/site-packages/sklearn/model_selection/_search.py:761: DeprecationWarning: The grid_scores_ attribute was deprecated in version 0.18 in favor of the more elaborate cv_results_ attribute. The grid_scores_ attribute will not be available from 0.20\n",
      "  DeprecationWarning)\n"
     ]
    },
    {
     "data": {
      "image/png": "[encoded data removed]",
      "text/plain": [
       "<matplotlib.figure.Figure at 0x7f0210002eb8>"
      ]
     },
     "metadata": {},
     "output_type": "display_data"
    }
   ],
   "source": [
    "plot_error_vs_c(sol_tfidf)"
   ]
  },
  {
   "cell_type": "code",
   "execution_count": 42,
   "metadata": {},
   "outputs": [
    {
     "name": "stdout",
     "output_type": "stream",
     "text": [
      "Accuracy on test set: 91.48\n",
      "Precision on test set: 89.68\n",
      "Recall on test set: 79.94\n",
      "F1-Score on test set:  83.69\n",
      "Non Zero weights: 589268\n"
     ]
    },
    {
     "data": {
      "text/plain": [
       "Text(0.5,15,'Predicted label')"
      ]
     },
     "execution_count": 42,
     "metadata": {},
     "output_type": "execute_result"
    },
    {
     "data": {
      "image/png": "[encoded data removed]",
      "text/plain": [
       "<matplotlib.figure.Figure at 0x7f0203bd99b0>"
      ]
     },
     "metadata": {},
     "output_type": "display_data"
    }
   ],
   "source": [
    "#Testing Accuracy on Test data\n",
    "import numpy as np\n",
    "from sklearn.linear_model import LogisticRegression\n",
    "\n",
    "clf = LogisticRegression(C= 10, penalty= 'l2')\n",
    "clf.fit(X_train,y_train)\n",
    "y_pred = clf.predict(X_test)\n",
    "\n",
    "print(\"Accuracy on test set:\",np.round((accuracy_score(y_test, y_pred)*100),decimals = 2))\n",
    "print(\"Precision on test set:\",np.round((precision_score(y_test, y_pred,average= 'macro')*100),decimals = 2))\n",
    "print(\"Recall on test set:\",np.round((recall_score(y_test, y_pred,average= 'macro')*100),decimals = 2))\n",
    "print(\"F1-Score on test set: \",np.round((f1_score(y_test, y_pred,average= 'macro')*100),decimals = 2))\n",
    "print(\"Non Zero weights:\",np.count_nonzero(clf.coef_))\n",
    "\n",
    "plt.figure()\n",
    "confusion_matrix_Plot = confusion_matrix(y_test,y_pred)\n",
    "heatmap = sns.heatmap(confusion_matrix_Plot, annot=True, fmt=\"d\")\n",
    "heatmap.yaxis.set_ticklabels(heatmap.yaxis.get_ticklabels(), rotation=0, ha='right')\n",
    "heatmap.xaxis.set_ticklabels(heatmap.xaxis.get_ticklabels(), rotation=45, ha='right')\n",
    "plt.ylabel('True label')\n",
    "plt.xlabel('Predicted label')"
   ]
  },
  {
   "cell_type": "markdown",
   "metadata": {},
   "source": [
    "# Sparsity v/s C"
   ]
  },
  {
   "cell_type": "code",
   "execution_count": 43,
   "metadata": {},
   "outputs": [
    {
     "name": "stdout",
     "output_type": "stream",
     "text": [
      "Accuracy on test set: 91.25\n",
      "F1-Score on test set:  84.47\n",
      "Non Zero weights: 11131\n"
     ]
    }
   ],
   "source": [
    "from sklearn.linear_model import LogisticRegression\n",
    "\n",
    "clf = LogisticRegression(C= 1000, penalty= 'l1')\n",
    "clf.fit(X_train,y_train)\n",
    "y_pred = clf.predict(X_test)\n",
    "print(\"Accuracy on test set:\",np.round((accuracy_score(y_test, y_pred)*100),decimals = 2))\n",
    "print(\"F1-Score on test set: \",np.round((f1_score(y_test, y_pred,average= 'macro')*100),decimals = 2))\n",
    "print(\"Non Zero weights:\",np.count_nonzero(clf.coef_))"
   ]
  },
  {
   "cell_type": "code",
   "execution_count": 44,
   "metadata": {},
   "outputs": [
    {
     "name": "stdout",
     "output_type": "stream",
     "text": [
      "Accuracy on test set: 91.13\n",
      "F1-Score on test set:  84.4\n",
      "Non Zero weights: 8272\n"
     ]
    }
   ],
   "source": [
    "from sklearn.linear_model import LogisticRegression\n",
    "\n",
    "clf = LogisticRegression(C= 100, penalty= 'l1')\n",
    "clf.fit(X_train,y_train)\n",
    "y_pred = clf.predict(X_test)\n",
    "print(\"Accuracy on test set:\",np.round((accuracy_score(y_test, y_pred)*100),decimals = 2))\n",
    "print(\"F1-Score on test set: \",np.round((f1_score(y_test, y_pred,average= 'macro')*100),decimals = 2))\n",
    "print(\"Non Zero weights:\",np.count_nonzero(clf.coef_))"
   ]
  },
  {
   "cell_type": "code",
   "execution_count": 45,
   "metadata": {},
   "outputs": [
    {
     "name": "stdout",
     "output_type": "stream",
     "text": [
      "Accuracy on test set: 91.56\n",
      "F1-Score on test set:  84.98\n",
      "Non Zero weights: 5679\n"
     ]
    }
   ],
   "source": [
    "from sklearn.linear_model import LogisticRegression\n",
    "\n",
    "clf = LogisticRegression(C= 10, penalty= 'l1')\n",
    "clf.fit(X_train,y_train)\n",
    "y_pred = clf.predict(X_test)\n",
    "print(\"Accuracy on test set:\",np.round((accuracy_score(y_test, y_pred)*100),decimals = 2))\n",
    "print(\"F1-Score on test set: \",np.round((f1_score(y_test, y_pred,average= 'macro')*100),decimals = 2))\n",
    "print(\"Non Zero weights:\",np.count_nonzero(clf.coef_))"
   ]
  },
  {
   "cell_type": "markdown",
   "metadata": {},
   "source": [
    "# Randomized search"
   ]
  },
  {
   "cell_type": "code",
   "execution_count": 46,
   "metadata": {},
   "outputs": [
    {
     "name": "stdout",
     "output_type": "stream",
     "text": [
      "CPU times: user 3 µs, sys: 0 ns, total: 3 µs\n",
      "Wall time: 5.25 µs\n",
      "Fitting 3 folds for each of 10 candidates, totalling 30 fits\n"
     ]
    },
    {
     "name": "stderr",
     "output_type": "stream",
     "text": [
      "[Parallel(n_jobs=1)]: Done  30 out of  30 | elapsed:   36.2s finished\n"
     ]
    },
    {
     "name": "stdout",
     "output_type": "stream",
     "text": [
      "Best HyperParameter:  {'penalty': 'l1', 'C': 5}\n",
      "Best Accuracy: 91.51%\n"
     ]
    }
   ],
   "source": [
    "%time\n",
    "from sklearn.model_selection import RandomizedSearchCV\n",
    "from sklearn.linear_model import LogisticRegression\n",
    "\n",
    "clf = LogisticRegression()\n",
    "\n",
    "#params we need to try on classifier\n",
    "param_grid = { 'C':[1000,500,100,50,10,5,1,0.5,0.1,0.05,0.01,0.005,0.001,0.0005,0.0001],\n",
    "              'penalty':['l1','l2']}\n",
    "\n",
    "sol_tfidf_random = RandomizedSearchCV(clf,param_grid,verbose=1)\n",
    "sol_tfidf_random.fit(X_train,y_train)\n",
    "\n",
    "print(\"Best HyperParameter: \",sol_tfidf_random.best_params_)\n",
    "print(\"Best Accuracy: %.2f%%\"%(sol_tfidf_random.best_score_*100))"
   ]
  },
  {
   "cell_type": "code",
   "execution_count": 47,
   "metadata": {},
   "outputs": [
    {
     "name": "stdout",
     "output_type": "stream",
     "text": [
      "Accuracy on test set: 91.31\n",
      "Precision on test set: 89.93\n",
      "Recall on test set: 79.12\n",
      "F1-Score on test set:  83.14\n",
      "Non Zero weights: 589268\n"
     ]
    },
    {
     "data": {
      "text/plain": [
       "Text(0.5,15,'Predicted label')"
      ]
     },
     "execution_count": 47,
     "metadata": {},
     "output_type": "execute_result"
    },
    {
     "data": {
      "image/png": "[encoded data removed]",
      "text/plain": [
       "<matplotlib.figure.Figure at 0x7f0205068cf8>"
      ]
     },
     "metadata": {},
     "output_type": "display_data"
    }
   ],
   "source": [
    "#Testing Accuracy on Test data\n",
    "from sklearn.linear_model import LogisticRegression\n",
    "\n",
    "clf = LogisticRegression(C= 5, penalty= 'l2')\n",
    "clf.fit(X_train,y_train)\n",
    "y_pred = clf.predict(X_test)\n",
    "\n",
    "print(\"Accuracy on test set:\",np.round((accuracy_score(y_test, y_pred)*100),decimals = 2))\n",
    "print(\"Precision on test set:\",np.round((precision_score(y_test, y_pred,average= 'macro')*100),decimals = 2))\n",
    "print(\"Recall on test set:\",np.round((recall_score(y_test, y_pred,average= 'macro')*100),decimals = 2))\n",
    "print(\"F1-Score on test set: \",np.round((f1_score(y_test, y_pred,average= 'macro')*100),decimals = 2))\n",
    "print(\"Non Zero weights:\",np.count_nonzero(clf.coef_))\n",
    "\n",
    "plt.figure()\n",
    "confusion_matrix_Plot = confusion_matrix(y_test,y_pred)\n",
    "heatmap = sns.heatmap(confusion_matrix_Plot, annot=True, fmt=\"d\")\n",
    "heatmap.yaxis.set_ticklabels(heatmap.yaxis.get_ticklabels(), rotation=0, ha='right')\n",
    "heatmap.xaxis.set_ticklabels(heatmap.xaxis.get_ticklabels(), rotation=45, ha='right')\n",
    "plt.ylabel('True label')\n",
    "plt.xlabel('Predicted label')"
   ]
  },
  {
   "cell_type": "code",
   "execution_count": 48,
   "metadata": {},
   "outputs": [],
   "source": [
    "def plot_error_vs_c(sol_tfidf_random):\n",
    "    x1=[]\n",
    "    y1=[]\n",
    "    x2=[]\n",
    "    y2=[]\n",
    "    \n",
    "    for a in sol_tfidf_random.grid_scores_:\n",
    "        if (a[0]['penalty']) == 'l1':\n",
    "            y1.append(1 - a[1])\n",
    "            x1.append(a[0]['C'])\n",
    "            \n",
    "        else:\n",
    "            y2.append(1 - a[1])\n",
    "            x2.append(a[0]['C'])\n",
    "    plt.xlim(-10,1010)\n",
    "    plt.ylim(0,0.2)\n",
    "    plt.xlabel(\"C\",fontsize=15)\n",
    "    plt.ylabel(\"Misclassification Error\")\n",
    "    plt.title('Misclassification Error v/s C')\n",
    "    plt.plot(x1,y1,'b',label=\"L1\")\n",
    "    plt.plot(x2,y2,'r',label=\"L2\")\n",
    "    plt.legend()\n",
    "    plt.show()"
   ]
  },
  {
   "cell_type": "code",
   "execution_count": 49,
   "metadata": {},
   "outputs": [
    {
     "name": "stderr",
     "output_type": "stream",
     "text": [
      "/home/joseph/anaconda3/lib/python3.6/site-packages/sklearn/model_selection/_search.py:761: DeprecationWarning: The grid_scores_ attribute was deprecated in version 0.18 in favor of the more elaborate cv_results_ attribute. The grid_scores_ attribute will not be available from 0.20\n",
      "  DeprecationWarning)\n"
     ]
    },
    {
     "data": {
      "image/png": "[encoded data removed]",
      "text/plain": [
       "<matplotlib.figure.Figure at 0x7f02062625c0>"
      ]
     },
     "metadata": {},
     "output_type": "display_data"
    }
   ],
   "source": [
    "plot_error_vs_c(sol_tfidf_random)"
   ]
  },
  {
   "cell_type": "markdown",
   "metadata": {},
   "source": [
    "# Perturbation test"
   ]
  },
  {
   "cell_type": "code",
   "execution_count": 39,
   "metadata": {},
   "outputs": [
    {
     "name": "stdout",
     "output_type": "stream",
     "text": [
      "Accuracy on test set: 90.94\n",
      "Non zero weights: 589268\n"
     ]
    }
   ],
   "source": [
    "clf = LogisticRegression(C = 10, penalty = 'l2')\n",
    "\n",
    "clf.fit(X_train, y_train)\n",
    "\n",
    "print(\"Accuracy on test set:\",np.round((accuracy_score(y_test, y_pred)*100),decimals = 2))\n",
    "print(\"Non zero weights:\" , np.count_nonzero(clf.coef_))"
   ]
  },
  {
   "cell_type": "code",
   "execution_count": 40,
   "metadata": {},
   "outputs": [
    {
     "name": "stdout",
     "output_type": "stream",
     "text": [
      "[0.00364381 0.0288931  0.0288931  ... 0.07256389 0.04988143 0.04988143]\n"
     ]
    }
   ],
   "source": [
    "from scipy.sparse import find\n",
    "\n",
    "#weights before adding random noise\n",
    "\n",
    "weights1 = find(clf.coef_)[2]\n",
    "\n",
    "print(weights1)"
   ]
  },
  {
   "cell_type": "code",
   "execution_count": 41,
   "metadata": {},
   "outputs": [
    {
     "name": "stdout",
     "output_type": "stream",
     "text": [
      "<class 'scipy.sparse.csr.csr_matrix'>\n"
     ]
    }
   ],
   "source": [
    "X_train_1 = X_train\n",
    "\n",
    "epsilon = np.random.uniform(low = -0.0001, high = 0.0001, size = (find(X_train_1)[0].size,))\n",
    "\n",
    "print(type(X_train_1))\n",
    "\n",
    "# positions(row,cloumn) and value of non-zero datapoints\n",
    "a,b,c = find(X_train_1)\n",
    "\n",
    "\n",
    "X_train_1[a,b] = epsilon + X_train_1[a,b] "
   ]
  },
  {
   "cell_type": "code",
   "execution_count": 42,
   "metadata": {},
   "outputs": [
    {
     "name": "stdout",
     "output_type": "stream",
     "text": [
      "Accuracy on test set: 90.94\n",
      "Non zero weights: 589268\n"
     ]
    }
   ],
   "source": [
    "# Traininig with random noise\n",
    "\n",
    "clf = LogisticRegression(C = 10, penalty = 'l2')\n",
    "\n",
    "clf.fit(X_train, y_train)\n",
    "\n",
    "print(\"Accuracy on test set:\",np.round((accuracy_score(y_test, y_pred)*100),decimals = 2))\n",
    "print(\"Non zero weights:\" , np.count_nonzero(clf.coef_))"
   ]
  },
  {
   "cell_type": "code",
   "execution_count": 43,
   "metadata": {},
   "outputs": [
    {
     "name": "stdout",
     "output_type": "stream",
     "text": [
      "[0.00364488 0.02889961 0.02890156 ... 0.07257728 0.04984078 0.04985291]\n"
     ]
    }
   ],
   "source": [
    "from scipy.sparse import find\n",
    "\n",
    "#weights before adding random noise\n",
    "\n",
    "weights2 = find(clf.coef_)[2]\n",
    "\n",
    "print(weights2)"
   ]
  },
  {
   "cell_type": "code",
   "execution_count": 44,
   "metadata": {},
   "outputs": [],
   "source": [
    "weights_diff = (abs(weights1 - weights2)/weights1)*100"
   ]
  },
  {
   "cell_type": "code",
   "execution_count": 45,
   "metadata": {},
   "outputs": [
    {
     "name": "stdout",
     "output_type": "stream",
     "text": [
      "55\n"
     ]
    }
   ],
   "source": [
    "print(weights_diff[np.where(weights_diff > 30)].size)"
   ]
  },
  {
   "cell_type": "code",
   "execution_count": 46,
   "metadata": {},
   "outputs": [
    {
     "name": "stdout",
     "output_type": "stream",
     "text": [
      "\t\t\tPositive\t\t\t\t\t\tNegative\n",
      "________________________________________________________________________________________________\n",
      "\t-16.6109\tdisappoint     \t\t\t\t17.8086\tgreat          \n",
      "\t-13.0388\tworst          \t\t\t\t15.4743\tlove           \n",
      "\t-11.4019\treturn         \t\t\t\t14.2212\tdelici         \n",
      "\t-10.8391\tterribl        \t\t\t\t14.1385\tbest           \n",
      "\t-9.8172\taw             \t\t\t\t13.0806\tperfect        \n",
      "\t-9.6203\thorribl        \t\t\t\t11.3502\tgood           \n",
      "\t-9.0473\tbland          \t\t\t\t11.0371\tnice           \n",
      "\t-8.8459\tthrew          \t\t\t\t10.7579\texcel          \n",
      "\t-8.4256\tunfortun       \t\t\t\t9.5347\tfavorit        \n",
      "\t-8.1968\tweak           \t\t\t\t9.2179\tamaz           \n",
      "\t-8.1177\tthought        \t\t\t\t8.6962\thigh recommend \n",
      "\t-7.4541\twast           \t\t\t\t8.6913\tthank          \n",
      "\t-7.4510\tmoney          \t\t\t\t7.6470\twonder         \n",
      "\t-7.4277\tmayb           \t\t\t\t7.5030\teasi           \n",
      "\t-7.3600\taway           \t\t\t\t7.3536\twithout        \n",
      "\t-7.1869\tbad            \t\t\t\t7.2223\tsmooth         \n",
      "\t-7.0184\trefund         \t\t\t\t7.2101\tglad           \n",
      "\t-6.8642\tcancel         \t\t\t\t7.1646\tkeep           \n",
      "\t-6.8589\tnasti          \t\t\t\t6.9028\tyummi          \n",
      "\t-6.8332\tdisgust        \t\t\t\t6.8954\tawesom         \n",
      "\t-6.8277\tnever buy      \t\t\t\t6.8545\tquick          \n",
      "\t-6.8207\tpoor           \t\t\t\t6.7379\tsatisfi        \n",
      "\t-6.7343\tstale          \t\t\t\t6.6884\tfind           \n",
      "\t-6.6629\tsorri          \t\t\t\t6.6602\taddict         \n",
      "\t-6.6518\twont buy       \t\t\t\t6.6030\ttasti          \n"
     ]
    }
   ],
   "source": [
    "def show_most_informative_features(vectorizer, clf, n=25):\n",
    "    feature_names = vectorizer.get_feature_names()\n",
    "    coefs_with_fns = sorted(zip(clf.coef_[0], feature_names))\n",
    "    top = zip(coefs_with_fns[:n], coefs_with_fns[:-(n + 1):-1])\n",
    "    print(\"\\t\\t\\tPositive\\t\\t\\t\\t\\t\\tNegative\")\n",
    "    print(\"________________________________________________________________________________________________\")\n",
    "    for (coef_1, fn_1), (coef_2, fn_2) in top:\n",
    "        print(\"\\t%.4f\\t%-15s\\t\\t\\t\\t%.4f\\t%-15s\" % (coef_1, fn_1, coef_2, fn_2))\n",
    "        \n",
    "show_most_informative_features(tfidf,clf)"
   ]
  },
  {
   "cell_type": "markdown",
   "metadata": {},
   "source": [
    "# W2v"
   ]
  },
  {
   "cell_type": "code",
   "execution_count": 47,
   "metadata": {},
   "outputs": [],
   "source": [
    "from gensim.models import Word2Vec\n",
    "from gensim.models import KeyedVectors\n",
    "import pickle"
   ]
  },
  {
   "cell_type": "code",
   "execution_count": 48,
   "metadata": {},
   "outputs": [],
   "source": [
    "import gensim\n",
    "i=0\n",
    "str1=''\n",
    "list_of_sent=[]\n",
    "final_string_for_tfidf = []\n",
    "for sent in final['Text'].values:\n",
    "    filtered_sentence=[]\n",
    "    sent=cleanhtml(sent)\n",
    "    str1 = ''\n",
    "    for w in sent.split():\n",
    "        for cleaned_words in cleanpunct(w).split():\n",
    "            if((cleaned_words.isalpha()) & (cleaned_words.lower() not in stop)):    \n",
    "                filtered_sentence.append(cleaned_words.lower())\n",
    "                str1 += \" \"+cleaned_words.lower() \n",
    "            else:\n",
    "                continue\n",
    "    #str1 = b\" \".join(filtered_sentence) #final string of cleaned words\n",
    "            \n",
    "    #final_string_for_tfidf.append(str1)\n",
    "    list_of_sent.append(filtered_sentence)\n",
    "    final_string_for_tfidf.append((str1).strip())"
   ]
  },
  {
   "cell_type": "code",
   "execution_count": 49,
   "metadata": {},
   "outputs": [],
   "source": [
    "w2v_model=gensim.models.Word2Vec(list_of_sent,min_count=5,size=50, workers=4)"
   ]
  },
  {
   "cell_type": "code",
   "execution_count": 50,
   "metadata": {},
   "outputs": [],
   "source": [
    "sent_vectors = []; \n",
    "for sent in list_of_sent: \n",
    "    sent_vec = np.zeros(50)\n",
    "    cnt_words =0; \n",
    "    for word in sent: \n",
    "        try:\n",
    "            vec = w2v_model.wv[word]\n",
    "            sent_vec += vec\n",
    "            cnt_words += 1\n",
    "        except:\n",
    "            pass\n",
    "    sent_vec /= cnt_words\n",
    "    sent_vectors.append(sent_vec)"
   ]
  },
  {
   "cell_type": "code",
   "execution_count": 51,
   "metadata": {},
   "outputs": [],
   "source": [
    "import math\n",
    "from sklearn import datasets\n",
    "from sklearn.neighbors import KNeighborsClassifier\n",
    "\n",
    "from sklearn.model_selection import train_test_split\n",
    "\n",
    "X = sent_vectors#final_w2v_count\n",
    "y = final['Score']\n",
    "\n",
    "X_train =  sent_vectors[:math.ceil(len(final)*.7)]  #final_w2v_count\n",
    "X_test = sent_vectors[math.ceil(len(final)*.7):] #final_w2v_count\n",
    "y_train = y[:math.ceil(len(final)*.7)]\n",
    "y_test =  y[math.ceil(len(final)*.7):]"
   ]
  },
  {
   "cell_type": "code",
   "execution_count": 52,
   "metadata": {},
   "outputs": [
    {
     "name": "stdout",
     "output_type": "stream",
     "text": [
      "CPU times: user 3 µs, sys: 0 ns, total: 3 µs\n",
      "Wall time: 6.44 µs\n",
      "Fitting 3 folds for each of 14 candidates, totalling 42 fits\n"
     ]
    },
    {
     "name": "stderr",
     "output_type": "stream",
     "text": [
      "[Parallel(n_jobs=1)]: Done  42 out of  42 | elapsed:   42.1s finished\n"
     ]
    },
    {
     "name": "stdout",
     "output_type": "stream",
     "text": [
      "Best C: 1\n",
      "Best Accuracy: 88.60%\n"
     ]
    }
   ],
   "source": [
    "\n",
    "%time\n",
    "from sklearn.model_selection import GridSearchCV\n",
    "from sklearn.linear_model import LogisticRegression\n",
    "\n",
    "clf = LogisticRegression()\n",
    "\n",
    "param_grid = {'C': [0.001, 0.01, 0.1, 1, 10, 100, 1000], 'penalty':['l1','l2'] }\n",
    "\n",
    "sol_w2v = GridSearchCV(clf,param_grid,verbose=1)\n",
    "\n",
    "sol_w2v.fit(X_train,y_train)\n",
    "\n",
    "print('Best C:', sol_w2v.best_estimator_.get_params()['C'])\n",
    "print(\"Best Accuracy: %.2f%%\"%(sol_w2v.best_score_*100))\n",
    "\n"
   ]
  },
  {
   "cell_type": "code",
   "execution_count": 54,
   "metadata": {},
   "outputs": [],
   "source": [
    "def plot_error_vs_c(type):\n",
    "    x1=[]\n",
    "    y1=[]\n",
    "    x2=[]\n",
    "    y2=[]\n",
    "    \n",
    "    for a in sol_w2v.grid_scores_:\n",
    "        if (a[0]['penalty']) == 'l1':\n",
    "            y1.append(1 - a[1])\n",
    "            x1.append(a[0]['C'])\n",
    "            \n",
    "        else:\n",
    "            y2.append(1 - a[1])\n",
    "            x2.append(a[0]['C'])\n",
    "    plt.xlim(-10,1010)\n",
    "    plt.ylim(0,0.2)\n",
    "    plt.xlabel(\"C\",fontsize=15)\n",
    "    plt.ylabel(\"Misclassification Error\")\n",
    "    plt.title('Misclassification Error v/s C')\n",
    "    plt.plot(x1,y1,'b',label=\"L1\")\n",
    "    plt.plot(x2,y2,'r',label=\"L2\")\n",
    "    plt.legend()\n",
    "    plt.show()"
   ]
  },
  {
   "cell_type": "code",
   "execution_count": 55,
   "metadata": {},
   "outputs": [
    {
     "name": "stderr",
     "output_type": "stream",
     "text": [
      "/home/joseph/anaconda3/lib/python3.6/site-packages/sklearn/model_selection/_search.py:761: DeprecationWarning: The grid_scores_ attribute was deprecated in version 0.18 in favor of the more elaborate cv_results_ attribute. The grid_scores_ attribute will not be available from 0.20\n",
      "  DeprecationWarning)\n"
     ]
    },
    {
     "data": {
      "image/png": "[encoded data removed]",
      "text/plain": [
       "<matplotlib.figure.Figure at 0x7f965519b4a8>"
      ]
     },
     "metadata": {},
     "output_type": "display_data"
    }
   ],
   "source": [
    "plot_error_vs_c(sol_w2v)"
   ]
  },
  {
   "cell_type": "code",
   "execution_count": 56,
   "metadata": {},
   "outputs": [
    {
     "name": "stdout",
     "output_type": "stream",
     "text": [
      "Accuracy on test set: 87.55\n",
      "Precision on test set: 82.05\n",
      "Recall on test set: 71.64\n",
      "F1-Score on test set:  75.13\n",
      "Non Zero weights: 50\n"
     ]
    },
    {
     "data": {
      "text/plain": [
       "Text(0.5,15,'Predicted label')"
      ]
     },
     "execution_count": 56,
     "metadata": {},
     "output_type": "execute_result"
    },
    {
     "data": {
      "image/png": "[encoded data removed]",
      "text/plain": [
       "<matplotlib.figure.Figure at 0x7f96839074a8>"
      ]
     },
     "metadata": {},
     "output_type": "display_data"
    }
   ],
   "source": [
    "#Testing Accuracy on Test data\n",
    "import numpy as np\n",
    "from sklearn.linear_model import LogisticRegression\n",
    "\n",
    "clf = LogisticRegression(C= 10, penalty= 'l2')\n",
    "clf.fit(X_train,y_train)\n",
    "y_pred = clf.predict(X_test)\n",
    "\n",
    "print(\"Accuracy on test set:\",np.round((accuracy_score(y_test, y_pred)*100),decimals = 2))\n",
    "print(\"Precision on test set:\",np.round((precision_score(y_test, y_pred,average= 'macro')*100),decimals = 2))\n",
    "print(\"Recall on test set:\",np.round((recall_score(y_test, y_pred,average= 'macro')*100),decimals = 2))\n",
    "print(\"F1-Score on test set: \",np.round((f1_score(y_test, y_pred,average= 'macro')*100),decimals = 2))\n",
    "print(\"Non Zero weights:\",np.count_nonzero(clf.coef_))\n",
    "\n",
    "plt.figure()\n",
    "confusion_matrix_Plot = confusion_matrix(y_test,y_pred)\n",
    "heatmap = sns.heatmap(confusion_matrix_Plot, annot=True, fmt=\"d\")\n",
    "heatmap.yaxis.set_ticklabels(heatmap.yaxis.get_ticklabels(), rotation=0, ha='right')\n",
    "heatmap.xaxis.set_ticklabels(heatmap.xaxis.get_ticklabels(), rotation=45, ha='right')\n",
    "plt.ylabel('True label')\n",
    "plt.xlabel('Predicted label')"
   ]
  },
  {
   "cell_type": "code",
   "execution_count": 57,
   "metadata": {},
   "outputs": [
    {
     "name": "stdout",
     "output_type": "stream",
     "text": [
      "Accuracy on test set: 87.55\n",
      "F1-Score on test set:  75.12\n",
      "Non Zero weights: 50\n"
     ]
    }
   ],
   "source": [
    "from sklearn.linear_model import LogisticRegression\n",
    "\n",
    "clf = LogisticRegression(C= 1000, penalty= 'l1')\n",
    "clf.fit(X_train,y_train)\n",
    "y_pred = clf.predict(X_test)\n",
    "print(\"Accuracy on test set:\",np.round((accuracy_score(y_test, y_pred)*100),decimals = 2))\n",
    "print(\"F1-Score on test set: \",np.round((f1_score(y_test, y_pred,average= 'macro')*100),decimals = 2))\n",
    "print(\"Non Zero weights:\",np.count_nonzero(clf.coef_))"
   ]
  },
  {
   "cell_type": "code",
   "execution_count": 58,
   "metadata": {},
   "outputs": [
    {
     "name": "stdout",
     "output_type": "stream",
     "text": [
      "Accuracy on test set: 87.55\n",
      "F1-Score on test set:  75.11\n",
      "Non Zero weights: 50\n"
     ]
    }
   ],
   "source": [
    "from sklearn.linear_model import LogisticRegression\n",
    "\n",
    "clf = LogisticRegression(C= 100, penalty= 'l1')\n",
    "clf.fit(X_train,y_train)\n",
    "y_pred = clf.predict(X_test)\n",
    "print(\"Accuracy on test set:\",np.round((accuracy_score(y_test, y_pred)*100),decimals = 2))\n",
    "print(\"F1-Score on test set: \",np.round((f1_score(y_test, y_pred,average= 'macro')*100),decimals = 2))\n",
    "print(\"Non Zero weights:\",np.count_nonzero(clf.coef_))"
   ]
  },
  {
   "cell_type": "code",
   "execution_count": 59,
   "metadata": {},
   "outputs": [
    {
     "name": "stdout",
     "output_type": "stream",
     "text": [
      "Accuracy on test set: 87.55\n",
      "F1-Score on test set:  75.11\n",
      "Non Zero weights: 50\n"
     ]
    }
   ],
   "source": [
    "from sklearn.linear_model import LogisticRegression\n",
    "\n",
    "clf = LogisticRegression(C= 10, penalty= 'l1')\n",
    "clf.fit(X_train,y_train)\n",
    "y_pred = clf.predict(X_test)\n",
    "print(\"Accuracy on test set:\",np.round((accuracy_score(y_test, y_pred)*100),decimals = 2))\n",
    "print(\"F1-Score on test set: \",np.round((f1_score(y_test, y_pred,average= 'macro')*100),decimals = 2))\n",
    "print(\"Non Zero weights:\",np.count_nonzero(clf.coef_))"
   ]
  },
  {
   "cell_type": "markdown",
   "metadata": {},
   "source": [
    "# Randomized search"
   ]
  },
  {
   "cell_type": "code",
   "execution_count": 60,
   "metadata": {},
   "outputs": [
    {
     "name": "stdout",
     "output_type": "stream",
     "text": [
      "CPU times: user 5 µs, sys: 0 ns, total: 5 µs\n",
      "Wall time: 10.3 µs\n",
      "Fitting 3 folds for each of 10 candidates, totalling 30 fits\n"
     ]
    },
    {
     "name": "stderr",
     "output_type": "stream",
     "text": [
      "[Parallel(n_jobs=1)]: Done  30 out of  30 | elapsed:   25.1s finished\n"
     ]
    },
    {
     "name": "stdout",
     "output_type": "stream",
     "text": [
      "Best HyperParameter:  {'penalty': 'l2', 'C': 10}\n",
      "Best Accuracy: 88.58%\n"
     ]
    }
   ],
   "source": [
    "%time\n",
    "from sklearn.model_selection import RandomizedSearchCV\n",
    "from sklearn.linear_model import LogisticRegression\n",
    "\n",
    "clf = LogisticRegression()\n",
    "\n",
    "#params we need to try on classifier\n",
    "param_grid = { 'C':[1000,500,100,50,10,5,1,0.5,0.1,0.05,0.01,0.005,0.001,0.0005,0.0001],\n",
    "              'penalty':['l1','l2']}\n",
    "\n",
    "sol_w2v_random = RandomizedSearchCV(clf,param_grid,verbose=1)\n",
    "sol_w2v_random.fit(X_train,y_train)\n",
    "\n",
    "print(\"Best HyperParameter: \",sol_w2v_random.best_params_)\n",
    "print(\"Best Accuracy: %.2f%%\"%(sol_w2v_random.best_score_*100))"
   ]
  },
  {
   "cell_type": "code",
   "execution_count": 98,
   "metadata": {},
   "outputs": [
    {
     "name": "stdout",
     "output_type": "stream",
     "text": [
      "Accuracy on test set: 87.65\n",
      "Precision on test set: 82.14\n",
      "Recall on test set: 72.0\n",
      "F1-Score on test set:  75.46\n",
      "Non Zero weights: 50\n"
     ]
    },
    {
     "data": {
      "text/plain": [
       "Text(0.5,15,'Predicted label')"
      ]
     },
     "execution_count": 98,
     "metadata": {},
     "output_type": "execute_result"
    },
    {
     "data": {
      "image/png": "[encoded data removed]",
      "text/plain": [
       "<matplotlib.figure.Figure at 0x7f00c8732208>"
      ]
     },
     "metadata": {},
     "output_type": "display_data"
    }
   ],
   "source": [
    "#Testing Accuracy on Test data\n",
    "from sklearn.linear_model import LogisticRegression\n",
    "\n",
    "clf = LogisticRegression(C= 5, penalty= 'l2')\n",
    "clf.fit(X_train,y_train)\n",
    "y_pred = clf.predict(X_test)\n",
    "\n",
    "print(\"Accuracy on test set:\",np.round((accuracy_score(y_test, y_pred)*100),decimals = 2))\n",
    "print(\"Precision on test set:\",np.round((precision_score(y_test, y_pred,average= 'macro')*100),decimals = 2))\n",
    "print(\"Recall on test set:\",np.round((recall_score(y_test, y_pred,average= 'macro')*100),decimals = 2))\n",
    "print(\"F1-Score on test set: \",np.round((f1_score(y_test, y_pred,average= 'macro')*100),decimals = 2))\n",
    "print(\"Non Zero weights:\",np.count_nonzero(clf.coef_))\n",
    "\n",
    "plt.figure()\n",
    "confusion_matrix_Plot = confusion_matrix(y_test,y_pred)\n",
    "heatmap = sns.heatmap(confusion_matrix_Plot, annot=True, fmt=\"d\")\n",
    "heatmap.yaxis.set_ticklabels(heatmap.yaxis.get_ticklabels(), rotation=0, ha='right')\n",
    "heatmap.xaxis.set_ticklabels(heatmap.xaxis.get_ticklabels(), rotation=45, ha='right')\n",
    "plt.ylabel('True label')\n",
    "plt.xlabel('Predicted label')"
   ]
  },
  {
   "cell_type": "code",
   "execution_count": 99,
   "metadata": {},
   "outputs": [],
   "source": [
    "def plot_error_vs_c(sol_w2v_random):\n",
    "    x1=[]\n",
    "    y1=[]\n",
    "    x2=[]\n",
    "    y2=[]\n",
    "    \n",
    "    for a in sol_w2v_random.grid_scores_:\n",
    "        if (a[0]['penalty']) == 'l1':\n",
    "            y1.append(1 - a[1])\n",
    "            x1.append(a[0]['C'])\n",
    "            \n",
    "        else:\n",
    "            y2.append(1 - a[1])\n",
    "            x2.append(a[0]['C'])\n",
    "    plt.xlim(-10,1010)\n",
    "    plt.ylim(0,0.2)\n",
    "    plt.xlabel(\"C\",fontsize=15)\n",
    "    plt.ylabel(\"Misclassification Error\")\n",
    "    plt.title('Misclassification Error v/s C')\n",
    "    plt.plot(x1,y1,'b',label=\"L1\")\n",
    "    plt.plot(x2,y2,'r',label=\"L2\")\n",
    "    plt.legend()\n",
    "    plt.show()"
   ]
  },
  {
   "cell_type": "code",
   "execution_count": 100,
   "metadata": {},
   "outputs": [
    {
     "name": "stderr",
     "output_type": "stream",
     "text": [
      "/home/joseph/anaconda3/lib/python3.6/site-packages/sklearn/model_selection/_search.py:761: DeprecationWarning: The grid_scores_ attribute was deprecated in version 0.18 in favor of the more elaborate cv_results_ attribute. The grid_scores_ attribute will not be available from 0.20\n",
      "  DeprecationWarning)\n"
     ]
    },
    {
     "data": {
      "image/png": "[encoded data removed]",
      "text/plain": [
       "<matplotlib.figure.Figure at 0x7f00c8737940>"
      ]
     },
     "metadata": {},
     "output_type": "display_data"
    }
   ],
   "source": [
    "plot_error_vs_c(sol_w2v_random)"
   ]
  },
  {
   "cell_type": "markdown",
   "metadata": {},
   "source": [
    "# Perturbation test"
   ]
  },
  {
   "cell_type": "code",
   "execution_count": 101,
   "metadata": {},
   "outputs": [
    {
     "name": "stdout",
     "output_type": "stream",
     "text": [
      "Accuracy on test set: 87.65\n",
      "Non zero weights: 50\n"
     ]
    }
   ],
   "source": [
    "clf = LogisticRegression(C = 10, penalty = 'l2')\n",
    "\n",
    "clf.fit(X_train, y_train)\n",
    "\n",
    "print(\"Accuracy on test set:\",np.round((accuracy_score(y_test, y_pred)*100),decimals = 2))\n",
    "print(\"Non zero weights:\" , np.count_nonzero(clf.coef_))"
   ]
  },
  {
   "cell_type": "code",
   "execution_count": 102,
   "metadata": {},
   "outputs": [
    {
     "name": "stdout",
     "output_type": "stream",
     "text": [
      "[-0.41194378  0.11339575  0.11142185 -0.74530152  1.46478568  0.29970845\n",
      " -0.20322738  0.59865603  1.0642619  -0.50646863 -0.17550277  0.61771242\n",
      " -0.2142788  -0.032358   -0.72643719  0.72876412  0.3184239   0.77935938\n",
      "  1.5609346  -0.04872308 -0.09619143 -0.31216177 -0.2866306   0.69359366\n",
      " -0.37050986  0.97977291 -1.20701183 -1.28446447 -0.09360631 -0.47595043\n",
      "  0.67591167  0.48351287 -0.45066732  0.78477557  0.34005925 -0.27617105\n",
      "  0.35842102 -0.47297058  1.05961788  0.23020914  0.03216053  1.29648086\n",
      " -0.90176404  0.61964764 -0.31346482 -0.18746035  0.34083964  1.30850203\n",
      "  1.12941658 -0.04247589]\n"
     ]
    }
   ],
   "source": [
    "from scipy.sparse import find\n",
    "\n",
    "#weights before adding random noise\n",
    "\n",
    "weights1 = find(clf.coef_)[2]\n",
    "\n",
    "print(weights1)"
   ]
  },
  {
   "cell_type": "code",
   "execution_count": 103,
   "metadata": {},
   "outputs": [
    {
     "ename": "TypeError",
     "evalue": "list indices must be integers or slices, not tuple",
     "output_type": "error",
     "traceback": [
      "\u001b[0;31m---------------------------------------------------------------------------\u001b[0m",
      "\u001b[0;31mTypeError\u001b[0m                                 Traceback (most recent call last)",
      "\u001b[0;32m<ipython-input-103-40158d4c80b3>\u001b[0m in \u001b[0;36m<module>\u001b[0;34m()\u001b[0m\n\u001b[1;32m      9\u001b[0m \u001b[0;34m\u001b[0m\u001b[0m\n\u001b[1;32m     10\u001b[0m \u001b[0;34m\u001b[0m\u001b[0m\n\u001b[0;32m---> 11\u001b[0;31m \u001b[0mX_train_2\u001b[0m\u001b[0;34m[\u001b[0m\u001b[0ma\u001b[0m\u001b[0;34m,\u001b[0m\u001b[0mb\u001b[0m\u001b[0;34m]\u001b[0m \u001b[0;34m=\u001b[0m \u001b[0mepsilon\u001b[0m \u001b[0;34m+\u001b[0m \u001b[0mX_train_2\u001b[0m\u001b[0;34m[\u001b[0m\u001b[0ma\u001b[0m\u001b[0;34m,\u001b[0m\u001b[0mb\u001b[0m\u001b[0;34m]\u001b[0m\u001b[0;34m\u001b[0m\u001b[0m\n\u001b[0m",
      "\u001b[0;31mTypeError\u001b[0m: list indices must be integers or slices, not tuple"
     ]
    }
   ],
   "source": [
    "X_train_2 = X_train\n",
    "\n",
    "epsilon = np.random.uniform(low = -0.0001, high = 0.0001, size = (find(X_train_2)[0].size,))\n",
    "\n",
    "#print(type(X_train_2))\n",
    "\n",
    "# positions(row,cloumn) and value of non-zero datapoints\n",
    "a,b,c = find(X_train_2)\n",
    "\n",
    "\n",
    "X_train_2[a,b] = epsilon + X_train_2[a,b] "
   ]
  },
  {
   "cell_type": "code",
   "execution_count": null,
   "metadata": {},
   "outputs": [],
   "source": []
  }
 ],
 "metadata": {
  "kernelspec": {
   "display_name": "Python 3",
   "language": "python",
   "name": "python3"
  },
  "language_info": {
   "codemirror_mode": {
    "name": "ipython",
    "version": 3
   },
   "file_extension": ".py",
   "mimetype": "text/x-python",
   "name": "python",
   "nbconvert_exporter": "python",
   "pygments_lexer": "ipython3",
   "version": "3.6.4"
  }
 },
 "nbformat": 4,
 "nbformat_minor": 2
}
