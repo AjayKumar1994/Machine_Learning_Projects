{
 "cells": [
  {
   "cell_type": "code",
   "execution_count": 115,
   "metadata": {},
   "outputs": [],
   "source": [
    "# import packages\n",
    "import pandas as pd\n",
    "import numpy as np\n",
    "import matplotlib.pyplot as plt\n",
    "import seaborn as sns\n",
    "import string\n",
    "import sqlite3\n",
    "import re\n",
    "import nltk\n",
    "from nltk.corpus import stopwords\n",
    "from nltk.stem import PorterStemmer\n",
    "from nltk.stem import SnowballStemmer\n",
    "from nltk.stem.wordnet import WordNetLemmatizer\n",
    "from sklearn.neighbors import KNeighborsClassifier\n",
    "from sklearn.naive_bayes import BernoulliNB\n",
    "from sklearn.naive_bayes import MultinomialNB\n",
    "from sklearn.metrics import accuracy_score,precision_score,recall_score,confusion_matrix,classification_report,f1_score\n",
    "from sklearn.decomposition import TruncatedSVD\n",
    "from sklearn import cross_validation\n",
    "from sklearn.cross_validation import cross_val_score\n",
    "from sklearn.feature_extraction.text import CountVectorizer\n",
    "from sklearn.feature_extraction.text import TfidfVectorizer\n",
    "import gensim\n",
    "from sklearn.model_selection import train_test_split"
   ]
  },
  {
   "cell_type": "code",
   "execution_count": 2,
   "metadata": {},
   "outputs": [],
   "source": [
    "# creating sql connection string\n",
    "con = sqlite3.connect('database.sqlite')"
   ]
  },
  {
   "cell_type": "code",
   "execution_count": 3,
   "metadata": {},
   "outputs": [],
   "source": [
    "filtered_data = pd.read_sql_query('SELECT * from Reviews WHERE Score != 3',con)"
   ]
  },
  {
   "cell_type": "code",
   "execution_count": 4,
   "metadata": {},
   "outputs": [],
   "source": [
    "actual_scores = filtered_data['Score']\n",
    "positiveNegative = actual_scores.map(lambda x: 'Positive' if x>3 else 'Negative')\n",
    "filtered_data['Score'] = positiveNegative"
   ]
  },
  {
   "cell_type": "code",
   "execution_count": 5,
   "metadata": {},
   "outputs": [],
   "source": [
    "final = filtered_data.drop_duplicates(subset= { 'UserId', 'ProfileName', 'Time',  'Text'})"
   ]
  },
  {
   "cell_type": "code",
   "execution_count": 6,
   "metadata": {},
   "outputs": [
    {
     "name": "stdout",
     "output_type": "stream",
     "text": [
      "Rows dropped :  1616410\n",
      "Percentage Data remaining after dropping duplicates : 69.25890143662969\n"
     ]
    }
   ],
   "source": [
    "print('Rows dropped : ',filtered_data.size - final.size)\n",
    "print('Percentage Data remaining after dropping duplicates :',(((final.size * 1.0)/(filtered_data.size * 1.0) * 100.0)))"
   ]
  },
  {
   "cell_type": "code",
   "execution_count": 7,
   "metadata": {},
   "outputs": [],
   "source": [
    "# Dropping rows where HelpfulnessNumerator < HelpfulnessDenominator\n",
    "final = final[final.HelpfulnessDenominator >= final.HelpfulnessNumerator]"
   ]
  },
  {
   "cell_type": "code",
   "execution_count": 8,
   "metadata": {},
   "outputs": [
    {
     "name": "stdout",
     "output_type": "stream",
     "text": [
      "Number of Rows remaining in the Dataset:  3641710\n"
     ]
    }
   ],
   "source": [
    "print('Number of Rows remaining in the Dataset: ',final.size)"
   ]
  },
  {
   "cell_type": "code",
   "execution_count": 9,
   "metadata": {},
   "outputs": [
    {
     "name": "stdout",
     "output_type": "stream",
     "text": [
      "Positive    41815\n",
      "Negative     8185\n",
      "Name: Score, dtype: int64\n"
     ]
    }
   ],
   "source": [
    "# Data Sampling\n",
    "final = final.iloc[:50000,:]\n",
    "\n",
    "\n",
    "# Checking the number of positive and negative reviews\n",
    "\n",
    "Class_Count  = final['Score'].value_counts()\n",
    "print(final['Score'].value_counts())"
   ]
  },
  {
   "cell_type": "code",
   "execution_count": 10,
   "metadata": {},
   "outputs": [],
   "source": [
    "# Sorting values according to Time for Time Based Slicing\n",
    "final = final.sort_values('Time',kind = 'quicksort')"
   ]
  },
  {
   "cell_type": "markdown",
   "metadata": {},
   "source": [
    "# Text Preprocessing: Stemming, stop-word removal and Lemmatization.\n",
    "Now that we have finished deduplication our data requires some preprocessing before we go on further with analysis and making the prediction model.\n",
    "\n",
    "Hence in the Preprocessing phase we do the following in the order below:-\n",
    "\n",
    "Begin by removing the html tags\n",
    "Remove any punctuations or limited set of special characters like , or . or # etc.\n",
    "Check if the word is made up of english letters and is not alpha-numeric\n",
    "Check to see if the length of the word is greater than 2 (as it was researched that there is no adjective in 2-letters)\n",
    "Convert the word to lowercase\n",
    "Remove Stopwords\n",
    "Finally Snowball Stemming the word (it was obsereved to be better than Porter Stemming)\n",
    "After which we collect the words used to describe positive and negative reviews"
   ]
  },
  {
   "cell_type": "code",
   "execution_count": 31,
   "metadata": {},
   "outputs": [],
   "source": [
    "# Function to Remove HTML Tags\n",
    "def cleanhtml(sentence):\n",
    "    cleaner = re.compile('<.*?>')\n",
    "    cleantext = re.sub(cleaner,\"\",sentence)\n",
    "    return cleantext"
   ]
  },
  {
   "cell_type": "code",
   "execution_count": 32,
   "metadata": {},
   "outputs": [],
   "source": [
    "# Function to clean punctuations and special characters\n",
    "\n",
    "def cleanpunct(sentence):\n",
    "    cleaned = re.sub(r'[?|!|\\'|\"|#]',r'',sentence)\n",
    "    cleaned = re.sub(r'[.|,|)|(|\\|/]',r' ',cleaned)\n",
    "    return  cleaned"
   ]
  },
  {
   "cell_type": "code",
   "execution_count": 34,
   "metadata": {},
   "outputs": [],
   "source": [
    "# Initialize Stop words and PorterStemmer and Lemmetizer\n",
    "stop = set(stopwords.words('english'))\n",
    "sno = SnowballStemmer('english')\n",
    "\n",
    "\n",
    "\n"
   ]
  },
  {
   "cell_type": "code",
   "execution_count": 35,
   "metadata": {},
   "outputs": [],
   "source": [
    "#Code for implementing step-by-step the checks mentioned in the pre-processing phase\n",
    "# this code takes a while to run as it needs to run on 500k sentences.\n",
    "i=0\n",
    "str1=' '\n",
    "final_string=[]\n",
    "all_positive_words=[] # store words from +ve reviews here\n",
    "all_negative_words=[] # store words from -ve reviews here.\n",
    "s=''\n",
    "for sent in final['Text'].values:\n",
    "    filtered_sentence=[]\n",
    "    #print(sent);\n",
    "    sent=cleanhtml(sent) # remove HTMl tags\n",
    "    for w in sent.split():\n",
    "        for cleaned_words in cleanpunc(w).split():\n",
    "            if((cleaned_words.isalpha()) & (len(cleaned_words)>2)):    \n",
    "                if(cleaned_words.lower() not in stop):\n",
    "                    s=(sno.stem(cleaned_words.lower())).encode('utf8')\n",
    "                    filtered_sentence.append(s)\n",
    "                    if (final['Score'].values)[i] == 'positive': \n",
    "                        all_positive_words.append(s) #list of all words used to describe positive reviews\n",
    "                    if(final['Score'].values)[i] == 'negative':\n",
    "                        all_negative_words.append(s) #list of all words used to describe negative reviews reviews\n",
    "                else:\n",
    "                    continue\n",
    "            else:\n",
    "                continue \n",
    "    #print(filtered_sentence)\n",
    "    str1 = b\" \".join(filtered_sentence) #final string of cleaned words\n",
    "    #print(\"***********************************************************************\")\n",
    "    \n",
    "    final_string.append(str1)\n",
    "    i+=1"
   ]
  },
  {
   "cell_type": "code",
   "execution_count": 36,
   "metadata": {},
   "outputs": [
    {
     "data": {
      "text/html": [
       "<div>\n",
       "<style scoped>\n",
       "    .dataframe tbody tr th:only-of-type {\n",
       "        vertical-align: middle;\n",
       "    }\n",
       "\n",
       "    .dataframe tbody tr th {\n",
       "        vertical-align: top;\n",
       "    }\n",
       "\n",
       "    .dataframe thead th {\n",
       "        text-align: right;\n",
       "    }\n",
       "</style>\n",
       "<table border=\"1\" class=\"dataframe\">\n",
       "  <thead>\n",
       "    <tr style=\"text-align: right;\">\n",
       "      <th></th>\n",
       "      <th>Id</th>\n",
       "      <th>ProductId</th>\n",
       "      <th>UserId</th>\n",
       "      <th>ProfileName</th>\n",
       "      <th>HelpfulnessNumerator</th>\n",
       "      <th>HelpfulnessDenominator</th>\n",
       "      <th>Score</th>\n",
       "      <th>Time</th>\n",
       "      <th>Summary</th>\n",
       "      <th>Text</th>\n",
       "      <th>CleanedText</th>\n",
       "    </tr>\n",
       "  </thead>\n",
       "  <tbody>\n",
       "    <tr>\n",
       "      <th>1146</th>\n",
       "      <td>1245</td>\n",
       "      <td>B00002Z754</td>\n",
       "      <td>A29Z5PI9BW2PU3</td>\n",
       "      <td>Robbie</td>\n",
       "      <td>7</td>\n",
       "      <td>7</td>\n",
       "      <td>Positive</td>\n",
       "      <td>961718400</td>\n",
       "      <td>Great Product</td>\n",
       "      <td>This was a really good idea and the final prod...</td>\n",
       "      <td>b'realli good idea final product outstand use ...</td>\n",
       "    </tr>\n",
       "    <tr>\n",
       "      <th>1145</th>\n",
       "      <td>1244</td>\n",
       "      <td>B00002Z754</td>\n",
       "      <td>A3B8RCEI0FXFI6</td>\n",
       "      <td>B G Chase</td>\n",
       "      <td>10</td>\n",
       "      <td>10</td>\n",
       "      <td>Positive</td>\n",
       "      <td>962236800</td>\n",
       "      <td>WOW Make your own 'slickers' !</td>\n",
       "      <td>I just received my shipment and could hardly w...</td>\n",
       "      <td>b'receiv shipment could hard wait tri product ...</td>\n",
       "    </tr>\n",
       "    <tr>\n",
       "      <th>28087</th>\n",
       "      <td>30630</td>\n",
       "      <td>B00008RCMI</td>\n",
       "      <td>A284C7M23F0APC</td>\n",
       "      <td>A. Mendoza</td>\n",
       "      <td>0</td>\n",
       "      <td>0</td>\n",
       "      <td>Positive</td>\n",
       "      <td>1067040000</td>\n",
       "      <td>Best sugarless gum ever!</td>\n",
       "      <td>I love this stuff. It is sugar-free so it does...</td>\n",
       "      <td>b'love stuff doesnt rot gum tast good go buy g...</td>\n",
       "    </tr>\n",
       "    <tr>\n",
       "      <th>28086</th>\n",
       "      <td>30629</td>\n",
       "      <td>B00008RCMI</td>\n",
       "      <td>A19E94CF5O1LY7</td>\n",
       "      <td>Andrew Arnold</td>\n",
       "      <td>0</td>\n",
       "      <td>0</td>\n",
       "      <td>Positive</td>\n",
       "      <td>1067040000</td>\n",
       "      <td>I've chewed this gum many times, but used?</td>\n",
       "      <td>Nothing against the product, but it does bothe...</td>\n",
       "      <td>b'noth product bother link top page buy use ch...</td>\n",
       "    </tr>\n",
       "    <tr>\n",
       "      <th>38740</th>\n",
       "      <td>42069</td>\n",
       "      <td>B0000EIEQU</td>\n",
       "      <td>A1YMJX4YWCE6P4</td>\n",
       "      <td>Jim Carson \"http://www.jimcarson.com\"</td>\n",
       "      <td>12</td>\n",
       "      <td>12</td>\n",
       "      <td>Positive</td>\n",
       "      <td>1067558400</td>\n",
       "      <td>These limes rule!</td>\n",
       "      <td>Fresh limes are underappreciated, but a joy to...</td>\n",
       "      <td>b'fresh lime underappreci joy kitchen squirt l...</td>\n",
       "    </tr>\n",
       "  </tbody>\n",
       "</table>\n",
       "</div>"
      ],
      "text/plain": [
       "          Id   ProductId          UserId  \\\n",
       "1146    1245  B00002Z754  A29Z5PI9BW2PU3   \n",
       "1145    1244  B00002Z754  A3B8RCEI0FXFI6   \n",
       "28087  30630  B00008RCMI  A284C7M23F0APC   \n",
       "28086  30629  B00008RCMI  A19E94CF5O1LY7   \n",
       "38740  42069  B0000EIEQU  A1YMJX4YWCE6P4   \n",
       "\n",
       "                                 ProfileName  HelpfulnessNumerator  \\\n",
       "1146                                  Robbie                     7   \n",
       "1145                               B G Chase                    10   \n",
       "28087                             A. Mendoza                     0   \n",
       "28086                          Andrew Arnold                     0   \n",
       "38740  Jim Carson \"http://www.jimcarson.com\"                    12   \n",
       "\n",
       "       HelpfulnessDenominator     Score        Time  \\\n",
       "1146                        7  Positive   961718400   \n",
       "1145                       10  Positive   962236800   \n",
       "28087                       0  Positive  1067040000   \n",
       "28086                       0  Positive  1067040000   \n",
       "38740                      12  Positive  1067558400   \n",
       "\n",
       "                                          Summary  \\\n",
       "1146                                Great Product   \n",
       "1145               WOW Make your own 'slickers' !   \n",
       "28087                    Best sugarless gum ever!   \n",
       "28086  I've chewed this gum many times, but used?   \n",
       "38740                           These limes rule!   \n",
       "\n",
       "                                                    Text  \\\n",
       "1146   This was a really good idea and the final prod...   \n",
       "1145   I just received my shipment and could hardly w...   \n",
       "28087  I love this stuff. It is sugar-free so it does...   \n",
       "28086  Nothing against the product, but it does bothe...   \n",
       "38740  Fresh limes are underappreciated, but a joy to...   \n",
       "\n",
       "                                             CleanedText  \n",
       "1146   b'realli good idea final product outstand use ...  \n",
       "1145   b'receiv shipment could hard wait tri product ...  \n",
       "28087  b'love stuff doesnt rot gum tast good go buy g...  \n",
       "28086  b'noth product bother link top page buy use ch...  \n",
       "38740  b'fresh lime underappreci joy kitchen squirt l...  "
      ]
     },
     "execution_count": 36,
     "metadata": {},
     "output_type": "execute_result"
    }
   ],
   "source": [
    "final['CleanedText']=final_string #adding a column of CleanedText which displays the data after pre-processing of the review\n",
    "final.head()"
   ]
  },
  {
   "cell_type": "code",
   "execution_count": 37,
   "metadata": {},
   "outputs": [],
   "source": [
    "#Dictionary for storing Metrics\n",
    "Final_Metrics =pd.DataFrame()"
   ]
  },
  {
   "cell_type": "code",
   "execution_count": 139,
   "metadata": {},
   "outputs": [],
   "source": [
    "def runNB(X_train, X_test, y_train, y_test, Vectorization):\n",
    "   # print(X_train.shape, y_train.shape)\n",
    "    global Final_Metrics\n",
    "    cv_scores = []\n",
    "    k_value = []\n",
    "    \n",
    "    Train_Scores = []\n",
    "    Test_Scores = []\n",
    "    \n",
    "    algo = 'NaiveBayes'\n",
    "    j = 0\n",
    "    \n",
    "    for i in range(2,30,2):\n",
    "        \n",
    "        nb = BernoulliNB(alpha=i)\n",
    "       \n",
    "        \n",
    "        scores = cross_val_score(nb, X_train, y_train, cv = 10, scoring = 'accuracy')\n",
    "        \n",
    "        cv_scores.append(scores.mean())\n",
    "        k_value.append(i)\n",
    "        \n",
    "        print('For alpha = ', i,'Accuracy Score = ', cv_scores[j])\n",
    "        \n",
    "        j+= 1\n",
    "        \n",
    "    alpha_optimum = k_value[cv_scores.index(max(cv_scores))]\n",
    "    plt.plot(k_value,cv_scores,'-o')\n",
    "    plt.xlabel('Alpha Value')\n",
    "    plt.ylabel('CV-Scores')\n",
    "    plt.title('Alpha Value vs CV-Scores')       \n",
    "    nb = BernoulliNB(alpha=alpha_optimum)\n",
    "   # print(X_train.shape, y_train.shape)\n",
    "        # fitting the model on crossvalidation train\n",
    "    nb.fit(X_train, y_train)\n",
    "\n",
    "        # predict the response on the crossvalidation train\n",
    "    pred = nb.predict(X_test)\n",
    "\n",
    "        # evaluate CV accuracy\n",
    "        #acc = accuracy_score(y_cv_input, pred, normalize=True) * float(100)\n",
    "    print('\\nDetails for ',Vectorization,'Vectorization:')\n",
    "    print('*'*100)\n",
    "    print('Accuracy for',algo,' algorithm with alpha =',alpha_optimum,' is ' ,np.round((accuracy_score(y_test, pred)*100),decimals = 2))\n",
    "    print('F1 score for',algo,' algorithm with alpha =',alpha_optimum,' is ' , np.round((f1_score(y_test, pred,average= 'macro')*100),decimals = 2))\n",
    "    print('Recall for',algo,' agorithm with alpha =',alpha_optimum,' is ' , np.round((recall_score(y_test, pred,average= 'macro')*100),decimals = 2))\n",
    "    print('Precision for',algo,' algorithm with aplha =',alpha_optimum,' is ' , np.round((precision_score(y_test, pred,average= 'macro')*100),decimals = 2))\n",
    "    print ('\\n Classification report for',algo,' algorithm with alpha =',alpha_optimum,' is \\n ' , classification_report(y_test,pred))    \n",
    "    Train_Scores.append(nb.score(X_train, y_train))\n",
    "    Test_Scores.append(nb.score(X_test, y_test))\n",
    "      \n",
    "    Temp_List = [algo,Vectorization,alpha_optimum,nb.score(X_train, y_train)*100,nb.score(X_test, y_test)*100]\n",
    "        #print(Temp_List)\n",
    "    Final_Metrics = Final_Metrics.append({'Algorithm': algo,'Vectorization':Vectorization,'HyperParameter':alpha_optimum,\n",
    "                                              'Training Accuracy Score': nb.score(X_train, y_train)*100,\n",
    "                                              'Testing Accuracy Score':nb.score(X_test, y_test)*100},\n",
    "                                            ignore_index=True)\n",
    "    \n",
    "    \n",
    "    plt.figure()\n",
    "    confusion_matrix_Plot = confusion_matrix(y_test,pred)\n",
    "    heatmap = sns.heatmap(confusion_matrix_Plot, annot=True, fmt=\"d\")\n",
    "    heatmap.yaxis.set_ticklabels(heatmap.yaxis.get_ticklabels(), rotation=0, ha='right')\n",
    "    heatmap.xaxis.set_ticklabels(heatmap.xaxis.get_ticklabels(), rotation=45, ha='right')\n",
    "    plt.ylabel('True label')\n",
    "    plt.xlabel('Predicted label')\n",
    "    \n",
    "    "
   ]
  },
  {
   "cell_type": "markdown",
   "metadata": {},
   "source": [
    "# BOW"
   ]
  },
  {
   "cell_type": "code",
   "execution_count": 124,
   "metadata": {},
   "outputs": [],
   "source": [
    "#Splitting into Training and Testing Set\n",
    "X_train,X_test,y_train,y_test = train_test_split(final['CleanedText'],final['Score'])"
   ]
  },
  {
   "cell_type": "code",
   "execution_count": 125,
   "metadata": {},
   "outputs": [
    {
     "name": "stdout",
     "output_type": "stream",
     "text": [
      "(37500, 26017) (37500,)\n",
      "For alpha =  2 Accuracy Score =  0.8476535755946839\n",
      "For alpha =  4 Accuracy Score =  0.8381869583208503\n",
      "For alpha =  6 Accuracy Score =  0.8339469866477265\n",
      "For alpha =  8 Accuracy Score =  0.8321067732536964\n",
      "For alpha =  10 Accuracy Score =  0.8325600923951473\n",
      "For alpha =  12 Accuracy Score =  0.8332266239791377\n",
      "For alpha =  14 Accuracy Score =  0.8335199146609715\n",
      "For alpha =  16 Accuracy Score =  0.833999964463405\n",
      "For alpha =  18 Accuracy Score =  0.8343466311490344\n",
      "For alpha =  20 Accuracy Score =  0.8348533547311423\n",
      "For alpha =  22 Accuracy Score =  0.8349599716295091\n",
      "For alpha =  24 Accuracy Score =  0.8351732836389889\n",
      "For alpha =  26 Accuracy Score =  0.8353066240853302\n",
      "For alpha =  28 Accuracy Score =  0.8353866311945456\n",
      "(37500, 26139) (37500,)\n",
      "\n",
      "Details for  Bag of Words Vectorization:\n",
      "****************************************************************************************************\n",
      "Accuracy for NaiveBayes  algorithm with alpha = 2  is  85.27\n",
      "F1 score for NaiveBayes  algorithm with alpha = 2  is  66.35\n",
      "Recall for NaiveBayes  agorithm with alpha = 2  is  63.66\n",
      "Precision for NaiveBayes  algorithm with aplha = 2  is  73.27\n",
      "\n",
      " Classification report for NaiveBayes  algorithm with alpha = 2  is \n",
      "               precision    recall  f1-score   support\n",
      "\n",
      "   Negative       0.59      0.32      0.41      2032\n",
      "   Positive       0.88      0.96      0.92     10468\n",
      "\n",
      "avg / total       0.83      0.85      0.83     12500\n",
      "\n"
     ]
    },
    {
     "data": {
      "image/png": "[encoded data removed]",
      "text/plain": [
       "<matplotlib.figure.Figure at 0x7ff692225c88>"
      ]
     },
     "metadata": {},
     "output_type": "display_data"
    },
    {
     "data": {
      "image/png": "[encoded data removed]",
      "text/plain": [
       "<matplotlib.figure.Figure at 0x7ff687f4c630>"
      ]
     },
     "metadata": {},
     "output_type": "display_data"
    }
   ],
   "source": [
    "# BoW Vectorization\n",
    "\n",
    "vect = CountVectorizer().fit(X_train)\n",
    "X_train = vect.transform(X_train)\n",
    "X_test = vect.transform(X_test)\n",
    "#print(X_Train)\n",
    "runNB(X_train,X_test,y_train,y_test,'Bag of Words')"
   ]
  },
  {
   "cell_type": "markdown",
   "metadata": {},
   "source": [
    "# Tfidf"
   ]
  },
  {
   "cell_type": "code",
   "execution_count": 129,
   "metadata": {},
   "outputs": [],
   "source": [
    "tf_idf_vec = TfidfVectorizer()#ngram_range=(2,2))\n",
    "\n",
    "final_tfidf_count = tf_idf_vec.fit_transform(final_string)#final['Text'].values)"
   ]
  },
  {
   "cell_type": "code",
   "execution_count": 130,
   "metadata": {},
   "outputs": [],
   "source": [
    "from sklearn.preprocessing import StandardScaler\n",
    "\n",
    "final_tfidf_np = StandardScaler(with_mean=False).fit_transform(final_tfidf_count )"
   ]
  },
  {
   "cell_type": "code",
   "execution_count": 131,
   "metadata": {},
   "outputs": [
    {
     "name": "stdout",
     "output_type": "stream",
     "text": [
      "(35000, 30287) (35000,)\n",
      "For alpha =  2 Accuracy Score =  0.847028575267639\n",
      "For alpha =  4 Accuracy Score =  0.8416288278880677\n",
      "For alpha =  6 Accuracy Score =  0.8394570889352725\n",
      "For alpha =  8 Accuracy Score =  0.8404285012594694\n",
      "For alpha =  10 Accuracy Score =  0.8406857012804654\n",
      "For alpha =  12 Accuracy Score =  0.8416285993166204\n",
      "For alpha =  14 Accuracy Score =  0.8421714809935903\n",
      "For alpha =  16 Accuracy Score =  0.8423143299848432\n",
      "For alpha =  18 Accuracy Score =  0.8423428769259491\n",
      "For alpha =  20 Accuracy Score =  0.8428856932967912\n",
      "For alpha =  22 Accuracy Score =  0.843057138208746\n",
      "For alpha =  24 Accuracy Score =  0.8432857423090401\n",
      "For alpha =  26 Accuracy Score =  0.8432857423090401\n",
      "For alpha =  28 Accuracy Score =  0.8432571953679343\n",
      "(35000, 30287) (35000,)\n",
      "\n",
      "Details for  TF-IDF Vectorization:\n",
      "****************************************************************************************************\n",
      "Accuracy for NaiveBayes  algorithm with alpha = 2  is  83.96\n",
      "F1 score for NaiveBayes  algorithm with alpha = 2  is  64.96\n",
      "Recall for NaiveBayes  agorithm with alpha = 2  is  62.37\n",
      "Precision for NaiveBayes  algorithm with aplha = 2  is  74.07\n",
      "\n",
      " Classification report for NaiveBayes  algorithm with alpha = 2  is \n",
      "               precision    recall  f1-score   support\n",
      "\n",
      "   Negative       0.62      0.29      0.39      2710\n",
      "   Positive       0.86      0.96      0.91     12290\n",
      "\n",
      "avg / total       0.82      0.84      0.81     15000\n",
      "\n"
     ]
    },
    {
     "data": {
      "image/png": "[encoded data removed]",
      "text/plain": [
       "<matplotlib.figure.Figure at 0x7ff686d54748>"
      ]
     },
     "metadata": {},
     "output_type": "display_data"
    },
    {
     "data": {
      "image/png": "[encoded data removed]",
      "text/plain": [
       "<matplotlib.figure.Figure at 0x7ff693ab2e10>"
      ]
     },
     "metadata": {},
     "output_type": "display_data"
    }
   ],
   "source": [
    "X = final_tfidf_np\n",
    "y = final['Score']\n",
    "\n",
    "X_train =  final_tfidf_np[:math.ceil(len(final)*.7)] \n",
    "X_test = final_tfidf_np[math.ceil(len(final)*.7):]\n",
    "y_train = y[:math.ceil(len(final)*.7)]\n",
    "y_test =  y[math.ceil(len(final)*.7):]\n",
    "runNB(X_train,X_test,y_train,y_test,'TF-IDF')"
   ]
  },
  {
   "cell_type": "markdown",
   "metadata": {},
   "source": [
    "# W2V"
   ]
  },
  {
   "cell_type": "code",
   "execution_count": 132,
   "metadata": {},
   "outputs": [],
   "source": [
    "from gensim.models import Word2Vec\n",
    "from gensim.models import KeyedVectors\n",
    "import pickle"
   ]
  },
  {
   "cell_type": "code",
   "execution_count": 133,
   "metadata": {},
   "outputs": [],
   "source": [
    "import gensim\n",
    "i=0\n",
    "str1=''\n",
    "list_of_sent=[]\n",
    "final_string_for_tfidf = []\n",
    "for sent in final['Text'].values:\n",
    "    filtered_sentence=[]\n",
    "    sent=cleanhtml(sent)\n",
    "    str1 = ''\n",
    "    for w in sent.split():\n",
    "        for cleaned_words in cleanpunc(w).split():\n",
    "            if((cleaned_words.isalpha()) & (cleaned_words.lower() not in stop)):    \n",
    "                filtered_sentence.append(cleaned_words.lower())\n",
    "                str1 += \" \"+cleaned_words.lower() \n",
    "            else:\n",
    "                continue\n",
    "    #str1 = b\" \".join(filtered_sentence) #final string of cleaned words\n",
    "            \n",
    "    #final_string_for_tfidf.append(str1)\n",
    "    list_of_sent.append(filtered_sentence)\n",
    "    final_string_for_tfidf.append((str1).strip())"
   ]
  },
  {
   "cell_type": "code",
   "execution_count": 134,
   "metadata": {},
   "outputs": [],
   "source": [
    "w2v_model=gensim.models.Word2Vec(list_of_sent,min_count=5,size=50, workers=4)  "
   ]
  },
  {
   "cell_type": "code",
   "execution_count": 135,
   "metadata": {},
   "outputs": [],
   "source": [
    "sent_vectors = []; \n",
    "for sent in list_of_sent: \n",
    "    sent_vec = np.zeros(50)\n",
    "    cnt_words =0; \n",
    "    for word in sent: \n",
    "        try:\n",
    "            vec = w2v_model.wv[word]\n",
    "            sent_vec += vec\n",
    "            cnt_words += 1\n",
    "        except:\n",
    "            pass\n",
    "    sent_vec /= cnt_words\n",
    "    sent_vectors.append(sent_vec)"
   ]
  },
  {
   "cell_type": "code",
   "execution_count": 140,
   "metadata": {},
   "outputs": [
    {
     "name": "stdout",
     "output_type": "stream",
     "text": [
      "For alpha =  2 Accuracy Score =  0.8493429672933036\n",
      "For alpha =  4 Accuracy Score =  0.8493144040256656\n",
      "For alpha =  6 Accuracy Score =  0.849257261163858\n",
      "For alpha =  8 Accuracy Score =  0.8494286081166212\n",
      "For alpha =  10 Accuracy Score =  0.8493714326017496\n",
      "For alpha =  12 Accuracy Score =  0.8494571713842589\n",
      "For alpha =  14 Accuracy Score =  0.8492571305516025\n",
      "For alpha =  16 Accuracy Score =  0.8493999632163236\n",
      "For alpha =  18 Accuracy Score =  0.8493142407603461\n",
      "For alpha =  20 Accuracy Score =  0.8493999958693873\n",
      "For alpha =  22 Accuracy Score =  0.8494570897515992\n",
      "For alpha =  24 Accuracy Score =  0.8496856285457657\n",
      "For alpha =  26 Accuracy Score =  0.84988565305189\n",
      "For alpha =  28 Accuracy Score =  0.8499142489725917\n",
      "\n",
      "Details for  W2V Vectorization:\n",
      "****************************************************************************************************\n",
      "Accuracy for NaiveBayes  algorithm with alpha = 28  is  83.75\n",
      "F1 score for NaiveBayes  algorithm with alpha = 28  is  70.97\n",
      "Recall for NaiveBayes  agorithm with alpha = 28  is  69.88\n",
      "Precision for NaiveBayes  algorithm with aplha = 28  is  72.37\n",
      "\n",
      " Classification report for NaiveBayes  algorithm with alpha = 28  is \n",
      "               precision    recall  f1-score   support\n",
      "\n",
      "   Negative       0.56      0.48      0.52      2710\n",
      "   Positive       0.89      0.92      0.90     12290\n",
      "\n",
      "avg / total       0.83      0.84      0.83     15000\n",
      "\n"
     ]
    },
    {
     "data": {
      "image/png": "[encoded data removed]",
      "text/plain": [
       "<matplotlib.figure.Figure at 0x7ff6cc5bc470>"
      ]
     },
     "metadata": {},
     "output_type": "display_data"
    },
    {
     "data": {
      "image/png": "[encoded data removed]",
      "text/plain": [
       "<matplotlib.figure.Figure at 0x7ff692362518>"
      ]
     },
     "metadata": {},
     "output_type": "display_data"
    }
   ],
   "source": [
    "import math\n",
    "from sklearn import datasets\n",
    "from sklearn.neighbors import KNeighborsClassifier\n",
    "\n",
    "from sklearn.model_selection import train_test_split\n",
    "\n",
    "X = sent_vectors #final_w2v_count\n",
    "y = final['Score']\n",
    "\n",
    "X_train =  sent_vectors[:math.ceil(len(final)*.7)]  #final_w2v_count\n",
    "X_test = sent_vectors[math.ceil(len(final)*.7):] #final_w2v_count\n",
    "y_train = y[:math.ceil(len(final)*.7)]\n",
    "y_test =  y[math.ceil(len(final)*.7):]\n",
    "\n",
    "runNB(X_train,X_test,y_train,y_test,'W2V')"
   ]
  },
  {
   "cell_type": "markdown",
   "metadata": {},
   "source": [
    "# tfidf Avg. W2V"
   ]
  },
  {
   "cell_type": "code",
   "execution_count": 141,
   "metadata": {},
   "outputs": [],
   "source": [
    "tf_idf_vec_w = TfidfVectorizer()#ngram_range=(2,2))\n",
    "\n",
    "final_tfidf_w = tf_idf_vec_w.fit_transform(final_string_for_tfidf)"
   ]
  },
  {
   "cell_type": "code",
   "execution_count": 142,
   "metadata": {},
   "outputs": [],
   "source": [
    "tfidf_feat = tf_idf_vec_w.get_feature_names()\n",
    "\n",
    "\n",
    "tfidf_sent_vectors = [];\n",
    "row=0;\n",
    "for sent in list_of_sent:  \n",
    "    sent_vec = np.zeros(50) \n",
    "    weight_sum =0;\n",
    "    for word in sent:\n",
    "        try:\n",
    "            vec = w2v_model.wv[word]\n",
    "            tf_idf = final_tfidf_w[row, tfidf_feat.index(word)]\n",
    "            sent_vec += (vec * tf_idf)\n",
    "            weight_sum += tf_idf\n",
    "        except Exception as e: \n",
    "            pass #print(e)\n",
    "            \n",
    "    try:\n",
    "        sent_vec /= weight_sum\n",
    "    except:\n",
    "        print(e)\n",
    "        \n",
    "    tfidf_sent_vectors.append(sent_vec)\n",
    "    row += 1"
   ]
  },
  {
   "cell_type": "code",
   "execution_count": 143,
   "metadata": {},
   "outputs": [
    {
     "name": "stdout",
     "output_type": "stream",
     "text": [
      "For alpha =  2 Accuracy Score =  0.8486566815229946\n",
      "For alpha =  4 Accuracy Score =  0.8486852611171642\n",
      "For alpha =  6 Accuracy Score =  0.8487995631673112\n",
      "For alpha =  8 Accuracy Score =  0.8488281264349491\n",
      "For alpha =  10 Accuracy Score =  0.8487709835731414\n",
      "For alpha =  12 Accuracy Score =  0.8489995550203717\n",
      "For alpha =  14 Accuracy Score =  0.8489138488909264\n",
      "For alpha =  16 Accuracy Score =  0.8486566978495264\n",
      "For alpha =  18 Accuracy Score =  0.8485995713142508\n",
      "For alpha =  20 Accuracy Score =  0.8485710243731448\n",
      "For alpha =  22 Accuracy Score =  0.8484853345702312\n",
      "For alpha =  24 Accuracy Score =  0.8485425264116347\n",
      "For alpha =  26 Accuracy Score =  0.84865681213525\n",
      "For alpha =  28 Accuracy Score =  0.8486853590763559\n",
      "\n",
      "Details for  Avg.weighted W2V Vectorization:\n",
      "****************************************************************************************************\n",
      "Accuracy for NaiveBayes  algorithm with alpha = 12  is  83.69\n",
      "F1 score for NaiveBayes  algorithm with alpha = 12  is  69.11\n",
      "Recall for NaiveBayes  agorithm with alpha = 12  is  67.24\n",
      "Precision for NaiveBayes  algorithm with aplha = 12  is  72.22\n",
      "\n",
      " Classification report for NaiveBayes  algorithm with alpha = 12  is \n",
      "               precision    recall  f1-score   support\n",
      "\n",
      "   Negative       0.57      0.41      0.48      2710\n",
      "   Positive       0.88      0.93      0.90     12290\n",
      "\n",
      "avg / total       0.82      0.84      0.83     15000\n",
      "\n"
     ]
    },
    {
     "data": {
      "image/png": "[encoded data removed]",
      "text/plain": [
       "<matplotlib.figure.Figure at 0x7ff6a9c14390>"
      ]
     },
     "metadata": {},
     "output_type": "display_data"
    },
    {
     "data": {
      "image/png": "[encoded data removed]",
      "text/plain": [
       "<matplotlib.figure.Figure at 0x7ff690800278>"
      ]
     },
     "metadata": {},
     "output_type": "display_data"
    }
   ],
   "source": [
    "X = tfidf_sent_vectors\n",
    "y = final['Score']\n",
    "\n",
    "X_train =  tfidf_sent_vectors[:math.ceil(len(final)*.7)] \n",
    "X_test = tfidf_sent_vectors[math.ceil(len(final)*.7):]\n",
    "y_train = y[:math.ceil(len(final)*.7)]\n",
    "y_test =  y[math.ceil(len(final)*.7):]\n",
    "\n",
    "runNB(X_train,X_test,y_train,y_test,'Avg.weighted W2V')"
   ]
  },
  {
   "cell_type": "code",
   "execution_count": null,
   "metadata": {},
   "outputs": [],
   "source": []
  }
 ],
 "metadata": {
  "kernelspec": {
   "display_name": "Python 3",
   "language": "python",
   "name": "python3"
  },
  "language_info": {
   "codemirror_mode": {
    "name": "ipython",
    "version": 3
   },
   "file_extension": ".py",
   "mimetype": "text/x-python",
   "name": "python",
   "nbconvert_exporter": "python",
   "pygments_lexer": "ipython3",
   "version": "3.6.4"
  }
 },
 "nbformat": 4,
 "nbformat_minor": 2
}
